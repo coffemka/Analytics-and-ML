{
 "cells": [
  {
   "cell_type": "markdown",
   "id": "047674ee",
   "metadata": {
    "id": "047674ee"
   },
   "source": [
    "# Часть 1 Бустинг (5 баллов)"
   ]
  },
  {
   "cell_type": "markdown",
   "id": "d8461109",
   "metadata": {
    "id": "d8461109"
   },
   "source": [
    "В этой части будем предсказывать зарплату data scientist-ов в зависимости  от ряда факторов с помощью градиентного бустинга."
   ]
  },
  {
   "cell_type": "markdown",
   "id": "1651e8dd",
   "metadata": {
    "id": "1651e8dd"
   },
   "source": [
    "В датасете есть следующие признаки:\n",
    "\n",
    "\n",
    "\n",
    "* work_year: The number of years of work experience in the field of data science.\n",
    "\n",
    "* experience_level: The level of experience, such as Junior, Senior, or Lead.\n",
    "\n",
    "* employment_type: The type of employment, such as Full-time or Contract.\n",
    "\n",
    "* job_title: The specific job title or role, such as Data Analyst or Data Scientist.\n",
    "\n",
    "* salary: The salary amount for the given job.\n",
    "\n",
    "* salary_currency: The currency in which the salary is denoted.\n",
    "\n",
    "* salary_in_usd: The equivalent salary amount converted to US dollars (USD) for comparison purposes.\n",
    "\n",
    "* employee_residence: The country or region where the employee resides.\n",
    "\n",
    "* remote_ratio: The percentage of remote work offered in the job.\n",
    "\n",
    "* company_location: The location of the company or organization.\n",
    "\n",
    "* company_size: The company's size is categorized as Small, Medium, or Large."
   ]
  },
  {
   "cell_type": "code",
   "execution_count": 2,
   "id": "dbf7595c",
   "metadata": {
    "colab": {
     "base_uri": "https://localhost:8080/",
     "height": 330
    },
    "id": "dbf7595c",
    "outputId": "1b27c9f2-85d2-4971-a592-6b4aaba9f94a"
   },
   "outputs": [
    {
     "data": {
      "text/html": [
       "<div>\n",
       "<style scoped>\n",
       "    .dataframe tbody tr th:only-of-type {\n",
       "        vertical-align: middle;\n",
       "    }\n",
       "\n",
       "    .dataframe tbody tr th {\n",
       "        vertical-align: top;\n",
       "    }\n",
       "\n",
       "    .dataframe thead th {\n",
       "        text-align: right;\n",
       "    }\n",
       "</style>\n",
       "<table border=\"1\" class=\"dataframe\">\n",
       "  <thead>\n",
       "    <tr style=\"text-align: right;\">\n",
       "      <th></th>\n",
       "      <th>work_year</th>\n",
       "      <th>experience_level</th>\n",
       "      <th>employment_type</th>\n",
       "      <th>job_title</th>\n",
       "      <th>salary</th>\n",
       "      <th>salary_currency</th>\n",
       "      <th>salary_in_usd</th>\n",
       "      <th>employee_residence</th>\n",
       "      <th>remote_ratio</th>\n",
       "      <th>company_location</th>\n",
       "      <th>company_size</th>\n",
       "    </tr>\n",
       "  </thead>\n",
       "  <tbody>\n",
       "    <tr>\n",
       "      <th>0</th>\n",
       "      <td>2023</td>\n",
       "      <td>SE</td>\n",
       "      <td>FT</td>\n",
       "      <td>Principal Data Scientist</td>\n",
       "      <td>80000</td>\n",
       "      <td>EUR</td>\n",
       "      <td>85847</td>\n",
       "      <td>ES</td>\n",
       "      <td>100</td>\n",
       "      <td>ES</td>\n",
       "      <td>L</td>\n",
       "    </tr>\n",
       "    <tr>\n",
       "      <th>1</th>\n",
       "      <td>2023</td>\n",
       "      <td>MI</td>\n",
       "      <td>CT</td>\n",
       "      <td>ML Engineer</td>\n",
       "      <td>30000</td>\n",
       "      <td>USD</td>\n",
       "      <td>30000</td>\n",
       "      <td>US</td>\n",
       "      <td>100</td>\n",
       "      <td>US</td>\n",
       "      <td>S</td>\n",
       "    </tr>\n",
       "    <tr>\n",
       "      <th>2</th>\n",
       "      <td>2023</td>\n",
       "      <td>MI</td>\n",
       "      <td>CT</td>\n",
       "      <td>ML Engineer</td>\n",
       "      <td>25500</td>\n",
       "      <td>USD</td>\n",
       "      <td>25500</td>\n",
       "      <td>US</td>\n",
       "      <td>100</td>\n",
       "      <td>US</td>\n",
       "      <td>S</td>\n",
       "    </tr>\n",
       "    <tr>\n",
       "      <th>3</th>\n",
       "      <td>2023</td>\n",
       "      <td>SE</td>\n",
       "      <td>FT</td>\n",
       "      <td>Data Scientist</td>\n",
       "      <td>175000</td>\n",
       "      <td>USD</td>\n",
       "      <td>175000</td>\n",
       "      <td>CA</td>\n",
       "      <td>100</td>\n",
       "      <td>CA</td>\n",
       "      <td>M</td>\n",
       "    </tr>\n",
       "    <tr>\n",
       "      <th>4</th>\n",
       "      <td>2023</td>\n",
       "      <td>SE</td>\n",
       "      <td>FT</td>\n",
       "      <td>Data Scientist</td>\n",
       "      <td>120000</td>\n",
       "      <td>USD</td>\n",
       "      <td>120000</td>\n",
       "      <td>CA</td>\n",
       "      <td>100</td>\n",
       "      <td>CA</td>\n",
       "      <td>M</td>\n",
       "    </tr>\n",
       "  </tbody>\n",
       "</table>\n",
       "</div>"
      ],
      "text/plain": [
       "   work_year experience_level employment_type                 job_title  \\\n",
       "0       2023               SE              FT  Principal Data Scientist   \n",
       "1       2023               MI              CT               ML Engineer   \n",
       "2       2023               MI              CT               ML Engineer   \n",
       "3       2023               SE              FT            Data Scientist   \n",
       "4       2023               SE              FT            Data Scientist   \n",
       "\n",
       "   salary salary_currency  salary_in_usd employee_residence  remote_ratio  \\\n",
       "0   80000             EUR          85847                 ES           100   \n",
       "1   30000             USD          30000                 US           100   \n",
       "2   25500             USD          25500                 US           100   \n",
       "3  175000             USD         175000                 CA           100   \n",
       "4  120000             USD         120000                 CA           100   \n",
       "\n",
       "  company_location company_size  \n",
       "0               ES            L  \n",
       "1               US            S  \n",
       "2               US            S  \n",
       "3               CA            M  \n",
       "4               CA            M  "
      ]
     },
     "execution_count": 2,
     "metadata": {},
     "output_type": "execute_result"
    }
   ],
   "source": [
    "import pandas as pd\n",
    "\n",
    "df = pd.read_csv(\"ds_salaries.csv\")\n",
    "df.head()"
   ]
  },
  {
   "cell_type": "markdown",
   "id": "6696e77a",
   "metadata": {
    "id": "6696e77a"
   },
   "source": [
    "## Задание 1 (0.5 балла) Подготовка"
   ]
  },
  {
   "cell_type": "markdown",
   "id": "0cb13dc7",
   "metadata": {
    "id": "0cb13dc7"
   },
   "source": [
    "\n",
    "\n",
    "*   Разделите выборку на train, val, test (80%, 10%, 10%)\n",
    "*   Выдерите salary_in_usd в качестве таргета\n",
    "*   Найдите и удалите признак, из-за которого возможен лик в данных\n"
   ]
  },
  {
   "cell_type": "code",
   "execution_count": 88,
   "id": "5a2ba920",
   "metadata": {},
   "outputs": [],
   "source": [
    "import warnings\n",
    "warnings.filterwarnings('ignore')"
   ]
  },
  {
   "cell_type": "code",
   "execution_count": 3,
   "id": "HJNGYRCjYG8A",
   "metadata": {
    "id": "HJNGYRCjYG8A"
   },
   "outputs": [],
   "source": [
    "from sklearn.model_selection import train_test_split\n",
    "\n",
    "#убираем признак salary, чтобы не произошел лик данных\n",
    "df.drop(columns=['salary'], inplace=True)"
   ]
  },
  {
   "cell_type": "code",
   "execution_count": 4,
   "id": "57db0dbe",
   "metadata": {},
   "outputs": [
    {
     "data": {
      "text/html": [
       "<div>\n",
       "<style scoped>\n",
       "    .dataframe tbody tr th:only-of-type {\n",
       "        vertical-align: middle;\n",
       "    }\n",
       "\n",
       "    .dataframe tbody tr th {\n",
       "        vertical-align: top;\n",
       "    }\n",
       "\n",
       "    .dataframe thead th {\n",
       "        text-align: right;\n",
       "    }\n",
       "</style>\n",
       "<table border=\"1\" class=\"dataframe\">\n",
       "  <thead>\n",
       "    <tr style=\"text-align: right;\">\n",
       "      <th></th>\n",
       "      <th>work_year</th>\n",
       "      <th>experience_level</th>\n",
       "      <th>employment_type</th>\n",
       "      <th>job_title</th>\n",
       "      <th>salary_currency</th>\n",
       "      <th>salary_in_usd</th>\n",
       "      <th>employee_residence</th>\n",
       "      <th>remote_ratio</th>\n",
       "      <th>company_location</th>\n",
       "      <th>company_size</th>\n",
       "    </tr>\n",
       "  </thead>\n",
       "  <tbody>\n",
       "    <tr>\n",
       "      <th>0</th>\n",
       "      <td>2023</td>\n",
       "      <td>SE</td>\n",
       "      <td>FT</td>\n",
       "      <td>Principal Data Scientist</td>\n",
       "      <td>EUR</td>\n",
       "      <td>85847</td>\n",
       "      <td>ES</td>\n",
       "      <td>100</td>\n",
       "      <td>ES</td>\n",
       "      <td>L</td>\n",
       "    </tr>\n",
       "    <tr>\n",
       "      <th>1</th>\n",
       "      <td>2023</td>\n",
       "      <td>MI</td>\n",
       "      <td>CT</td>\n",
       "      <td>ML Engineer</td>\n",
       "      <td>USD</td>\n",
       "      <td>30000</td>\n",
       "      <td>US</td>\n",
       "      <td>100</td>\n",
       "      <td>US</td>\n",
       "      <td>S</td>\n",
       "    </tr>\n",
       "    <tr>\n",
       "      <th>2</th>\n",
       "      <td>2023</td>\n",
       "      <td>MI</td>\n",
       "      <td>CT</td>\n",
       "      <td>ML Engineer</td>\n",
       "      <td>USD</td>\n",
       "      <td>25500</td>\n",
       "      <td>US</td>\n",
       "      <td>100</td>\n",
       "      <td>US</td>\n",
       "      <td>S</td>\n",
       "    </tr>\n",
       "    <tr>\n",
       "      <th>3</th>\n",
       "      <td>2023</td>\n",
       "      <td>SE</td>\n",
       "      <td>FT</td>\n",
       "      <td>Data Scientist</td>\n",
       "      <td>USD</td>\n",
       "      <td>175000</td>\n",
       "      <td>CA</td>\n",
       "      <td>100</td>\n",
       "      <td>CA</td>\n",
       "      <td>M</td>\n",
       "    </tr>\n",
       "    <tr>\n",
       "      <th>4</th>\n",
       "      <td>2023</td>\n",
       "      <td>SE</td>\n",
       "      <td>FT</td>\n",
       "      <td>Data Scientist</td>\n",
       "      <td>USD</td>\n",
       "      <td>120000</td>\n",
       "      <td>CA</td>\n",
       "      <td>100</td>\n",
       "      <td>CA</td>\n",
       "      <td>M</td>\n",
       "    </tr>\n",
       "  </tbody>\n",
       "</table>\n",
       "</div>"
      ],
      "text/plain": [
       "   work_year experience_level employment_type                 job_title  \\\n",
       "0       2023               SE              FT  Principal Data Scientist   \n",
       "1       2023               MI              CT               ML Engineer   \n",
       "2       2023               MI              CT               ML Engineer   \n",
       "3       2023               SE              FT            Data Scientist   \n",
       "4       2023               SE              FT            Data Scientist   \n",
       "\n",
       "  salary_currency  salary_in_usd employee_residence  remote_ratio  \\\n",
       "0             EUR          85847                 ES           100   \n",
       "1             USD          30000                 US           100   \n",
       "2             USD          25500                 US           100   \n",
       "3             USD         175000                 CA           100   \n",
       "4             USD         120000                 CA           100   \n",
       "\n",
       "  company_location company_size  \n",
       "0               ES            L  \n",
       "1               US            S  \n",
       "2               US            S  \n",
       "3               CA            M  \n",
       "4               CA            M  "
      ]
     },
     "execution_count": 4,
     "metadata": {},
     "output_type": "execute_result"
    }
   ],
   "source": [
    "df.head()"
   ]
  },
  {
   "cell_type": "code",
   "execution_count": 5,
   "id": "89c1afd4",
   "metadata": {},
   "outputs": [],
   "source": [
    "X = df.drop(columns=['salary_in_usd'])\n",
    "y = df['salary_in_usd']"
   ]
  },
  {
   "cell_type": "code",
   "execution_count": 6,
   "id": "34dafc99",
   "metadata": {},
   "outputs": [],
   "source": [
    "X_train, X_temp, y_train, y_temp = train_test_split(X, y, test_size=0.2, random_state=42)\n",
    "X_test, X_valid, y_test, y_valid = train_test_split(X_temp, y_temp, test_size=0.5, random_state=42)"
   ]
  },
  {
   "cell_type": "markdown",
   "id": "f63cb01a",
   "metadata": {
    "id": "f63cb01a"
   },
   "source": [
    "## Задание 2 (0.5 балла) Линейная модель"
   ]
  },
  {
   "cell_type": "markdown",
   "id": "647a5cad",
   "metadata": {
    "id": "647a5cad"
   },
   "source": [
    "\n",
    "*   Закодируйте категориальные  признаки с помощью OneHotEncoder\n",
    "*   Обучите модель линейной регрессии\n",
    "*   Оцените  качество через MAPE и RMSE\n"
   ]
  },
  {
   "cell_type": "code",
   "execution_count": 7,
   "id": "DcfWqlvYk0ru",
   "metadata": {
    "id": "DcfWqlvYk0ru"
   },
   "outputs": [
    {
     "name": "stdout",
     "output_type": "stream",
     "text": [
      "MAPE:  190870654.48145336\n",
      "RMSE:  66928931217098.08\n"
     ]
    }
   ],
   "source": [
    "from sklearn.linear_model import LinearRegression\n",
    "from sklearn.metrics import mean_absolute_percentage_error, mean_squared_error\n",
    "from sklearn.preprocessing import OneHotEncoder\n",
    "\n",
    "categorical_features = ['experience_level', 'employment_type', 'job_title', 'salary_currency', 'employee_residence', \n",
    "                        'company_location', 'company_size']\n",
    "\n",
    "X_train_encoded = pd.get_dummies(X_train, columns=categorical_features, drop_first=True)\n",
    "X_test_encoded = pd.get_dummies(X_test, columns=categorical_features, drop_first=True)\n",
    "X_valid_encoded = pd.get_dummies(X_valid, columns=categorical_features, drop_first=True)\n",
    "X_test_encoded = X_test_encoded.reindex(columns=X_train_encoded.columns, fill_value=0)\n",
    "X_valid_encoded = X_valid_encoded.reindex(columns=X_train_encoded.columns, fill_value=0)\n",
    "\n",
    "model = LinearRegression()\n",
    "model.fit(X_train_encoded, y_train)\n",
    "y_test_pred = model.predict(X_test_encoded)\n",
    "\n",
    "mape = mean_absolute_percentage_error(y_test, y_test_pred)\n",
    "rmse = mean_squared_error(y_test, y_test_pred, squared=False)\n",
    "\n",
    "print('MAPE: ', mape)\n",
    "print('RMSE: ', rmse)"
   ]
  },
  {
   "cell_type": "markdown",
   "id": "3578292c",
   "metadata": {
    "id": "3578292c"
   },
   "source": [
    "## Задание 3 (0.5 балла) XGboost"
   ]
  },
  {
   "cell_type": "markdown",
   "id": "3RJuwwoty9w1",
   "metadata": {
    "id": "3RJuwwoty9w1"
   },
   "source": [
    "Начнем с библиотеки xgboost.\n",
    "\n",
    "Обучите модель `XGBRegressor` на тех же данных, что линейную модель, подобрав оптимальные гиперпараметры (`max_depth, learning_rate, n_estimators, gamma`, etc.) по валидационной выборке. Оцените качество итоговой модели (MAPE, RMSE), скорость обучения и скорость предсказания."
   ]
  },
  {
   "cell_type": "code",
   "execution_count": null,
   "id": "0db01815",
   "metadata": {},
   "outputs": [],
   "source": [
    "import time\n",
    "import numpy as np\n",
    "from sklearn.model_selection import GridSearchCV\n",
    "from xgboost import XGBRegressor\n",
    "from sklearn.metrics import mean_absolute_percentage_error, mean_squared_error\n",
    "\n",
    "params = {\n",
    "    'max_depth': [3, 5, 7, 9],\n",
    "    'learning_rate': [0.01, 0.05, 0.1, 0.2],\n",
    "    'n_estimators': [100, 200, 300, 500],\n",
    "    'gamma': [0, 0.1, 0.2, 0.3],\n",
    "    'subsample': [0.6, 0.8, 1.0],\n",
    "    'colsample_bytree': [0.6, 0.8, 1.0],\n",
    "    'min_child_weight': [1, 3, 5],\n",
    "    'reg_alpha': [0, 0.01, 0.1],\n",
    "    'reg_lambda': [1, 1.5, 2]\n",
    "}\n",
    "\n",
    "xgb_model = XGBRegressor(objective='reg:squarederror', random_state=42)\n",
    "grid_search = GridSearchCV(estimator=xgb_model, param_grid=params, cv=3, scoring='neg_mean_squared_error', \n",
    "                           verbose=1, n_jobs=-1)\n",
    "\n",
    "start_time = time.time()\n",
    "grid_search.fit(X_train_encoded, y_train)\n",
    "training_time = time.time() - start_time\n",
    "\n",
    "\n",
    "best_params = grid_search.best_params_\n",
    "best_model = XGBRegressor(**best_params, objective='reg:squarederror', random_state=42)"
   ]
  },
  {
   "cell_type": "code",
   "execution_count": 123,
   "id": "7c1069d9",
   "metadata": {},
   "outputs": [
    {
     "name": "stdout",
     "output_type": "stream",
     "text": [
      "MAPE:  0.33592233721382536\n",
      "RMSE:  49700.15135990503\n",
      "Время обучения:  0.9548933506011963\n",
      "Время предсказания:  0.09335947036743164\n"
     ]
    }
   ],
   "source": [
    "start_time = time.time()\n",
    "best_model.fit(X_train_encoded, y_train)\n",
    "training_time = time.time() - start_time\n",
    "start_time = time.time()\n",
    "y_pred = best_model.predict(X_valid_encoded)\n",
    "prediction_time = time.time() - start_time\n",
    "\n",
    "mape = mean_absolute_percentage_error(y_valid, y_pred)\n",
    "rmse = mean_squared_error(y_valid, y_pred, squared=False)\n",
    "\n",
    "print('MAPE: ', mape)\n",
    "print('RMSE: ', rmse)\n",
    "print('Время обучения: ', training_time)\n",
    "print('Время предсказания: ', prediction_time)"
   ]
  },
  {
   "cell_type": "markdown",
   "id": "RmWp9wxu318i",
   "metadata": {
    "id": "RmWp9wxu318i"
   },
   "source": [
    "## Задание 4 (1 балл) CatBoost"
   ]
  },
  {
   "cell_type": "markdown",
   "id": "bDWqieZk3-rv",
   "metadata": {
    "id": "bDWqieZk3-rv"
   },
   "source": [
    "Теперь библиотека CatBoost.\n",
    "\n",
    "Обучите модель `CatBoostRegressor`, подобрав оптимальные гиперпараметры (`depth, learning_rate, iterations`, etc.) по валидационной выборке. Оцените качество итоговой модели (MAPE, RMSE), скорость обучения и скорость предсказания."
   ]
  },
  {
   "cell_type": "code",
   "execution_count": 129,
   "id": "mbhrOOPJ4X9C",
   "metadata": {
    "id": "mbhrOOPJ4X9C"
   },
   "outputs": [
    {
     "name": "stdout",
     "output_type": "stream",
     "text": [
      "Fitting 3 folds for each of 50 candidates, totalling 150 fits\n"
     ]
    }
   ],
   "source": [
    "from catboost import CatBoostRegressor\n",
    "from sklearn.model_selection import RandomizedSearchCV\n",
    "params = {\n",
    "    'depth': [4, 6, 8],\n",
    "    'learning_rate': [0.01, 0.05, 0.1],\n",
    "    'iterations': [100, 500, 1000],\n",
    "    'l2_leaf_reg': [1, 3, 5],\n",
    "    'border_count': [32, 50],\n",
    "    'bagging_temperature': [0.0, 0.5],\n",
    "    'random_strength': [1, 2, 5],\n",
    "    'one_hot_max_size': [2, 10],\n",
    "    'leaf_estimation_iterations': [1, 5],\n",
    "    'subsample': [0.75, 1.0]\n",
    "}\n",
    "\n",
    "model = CatBoostRegressor(logging_level='Silent')\n",
    "random_search = RandomizedSearchCV(estimator=model, param_distributions=params, \n",
    "                                 n_iter=50, cv=3, scoring='neg_mean_squared_error', \n",
    "                                 verbose=1, n_jobs=-1, random_state=42)\n",
    "\n",
    "grid_search.fit(X_train_encoded, y_train)\n",
    "best_params = random_search.best_params_\n",
    "best_model = CatBoostRegressor(**best_params, logging_level='Silent')"
   ]
  },
  {
   "cell_type": "code",
   "execution_count": 131,
   "id": "Ztdt39FZVruJ",
   "metadata": {
    "id": "Ztdt39FZVruJ"
   },
   "outputs": [
    {
     "name": "stdout",
     "output_type": "stream",
     "text": [
      "MAPE: 0.3403022563979832\n",
      "RMSE: 49805.690447638015\n",
      "Время обучения:  10.710519075393677\n",
      "Время предсказания:  0.021137475967407227\n"
     ]
    }
   ],
   "source": [
    "start_time = time.time()\n",
    "best_model.fit(X_train_encoded, y_train)\n",
    "training_time = time.time() - start_time\n",
    "\n",
    "y_pred = best_model.predict(X_valid_encoded)\n",
    "mape = mean_absolute_percentage_error(y_valid, y_pred)\n",
    "rmse = mean_squared_error(y_valid, y_pred, squared=False)\n",
    "\n",
    "print(f'MAPE: {mape}')\n",
    "print(f'RMSE: {rmse}')\n",
    "\n",
    "start_time = time.time()\n",
    "y_pred = best_model.predict(X_valid_encoded)\n",
    "prediction_time = time.time() - start_time\n",
    "\n",
    "print('Время обучения: ', training_time)\n",
    "print('Время предсказания: ', prediction_time)"
   ]
  },
  {
   "cell_type": "markdown",
   "id": "ruUNeGOk4lho",
   "metadata": {
    "id": "ruUNeGOk4lho"
   },
   "source": [
    "Для применения catboost моделей не обязательно сначала кодировать категориальные признаки, модель может кодировать их сама. Обучите catboost с подбором оптимальных гиперпараметров снова, используя pool для передачи данных в модель с указанием какие признаки категориальные, а какие нет с помощью параметра cat_features. Оцените качество и время. Стало ли лучше?"
   ]
  },
  {
   "cell_type": "code",
   "execution_count": 142,
   "id": "5vQr1f9P6cQ5",
   "metadata": {
    "id": "5vQr1f9P6cQ5",
    "scrolled": true
   },
   "outputs": [
    {
     "name": "stdout",
     "output_type": "stream",
     "text": [
      "Fitting 3 folds for each of 50 candidates, totalling 150 fits\n",
      "MAPE: 0.35569628969667394\n",
      "RMSE: 49806.73946627879\n",
      "Время обучения:  29.045947313308716\n",
      "Время предсказания:  0.0029969215393066406\n"
     ]
    }
   ],
   "source": [
    "from catboost import Pool\n",
    "\n",
    "train_pool = Pool(data=X_train, label=y_train, cat_features=categorical_features)\n",
    "valid_pool = Pool(data=X_valid, label=y_valid, cat_features=categorical_features)\n",
    "\n",
    "model = CatBoostRegressor(cat_features=categorical_features, logging_level='Silent')\n",
    "\n",
    "random_search = RandomizedSearchCV(estimator=model, param_distributions=params, \n",
    "                                   n_iter=50, cv=3, scoring='neg_mean_squared_error', \n",
    "                                   verbose=1, n_jobs=-1, random_state=42, error_score='raise')\n",
    "\n",
    "random_search.fit(X_train, y_train)\n",
    "best_params = random_search.best_params_\n",
    "best_model = CatBoostRegressor(**best_params, logging_level='Silent')\n",
    "\n",
    "start_time = time.time()\n",
    "best_model.fit(train_pool)\n",
    "training_time = time.time() - start_time\n",
    "\n",
    "y_pred = best_model.predict(valid_pool)\n",
    "\n",
    "mape = mean_absolute_percentage_error(y_valid, y_pred)\n",
    "rmse = mean_squared_error(y_valid, y_pred, squared=False)\n",
    "\n",
    "print(f'MAPE: {mape}')\n",
    "print(f'RMSE: {rmse}')\n",
    "\n",
    "start_time = time.time()\n",
    "y_pred = best_model.predict(valid_pool)\n",
    "prediction_time = time.time() - start_time\n",
    "\n",
    "print('Время обучения: ', training_time)\n",
    "print('Время предсказания: ', prediction_time)"
   ]
  },
  {
   "cell_type": "markdown",
   "id": "eA0djixU7L8c",
   "metadata": {
    "id": "eA0djixU7L8c"
   },
   "source": [
    "**Ответ:** Качество осталось таким же, при этом время очень сильно увеличилось, лучше кодировать признаки отдельно"
   ]
  },
  {
   "cell_type": "markdown",
   "id": "a881ad9d",
   "metadata": {
    "id": "a881ad9d"
   },
   "source": [
    "## Задание 5 (0.5 балла) LightGBM"
   ]
  },
  {
   "cell_type": "markdown",
   "id": "a35f87a6",
   "metadata": {
    "id": "a35f87a6"
   },
   "source": [
    "И наконец библиотека LightGBM - используйте `LGBMRegressor`, снова подберите гиперпараметры, оцените качество и скорость.\n"
   ]
  },
  {
   "cell_type": "code",
   "execution_count": 146,
   "id": "2f5c51f6",
   "metadata": {},
   "outputs": [
    {
     "name": "stdout",
     "output_type": "stream",
     "text": [
      "Collecting lightgbm\n",
      "  Downloading lightgbm-4.3.0-py3-none-win_amd64.whl.metadata (19 kB)\n",
      "Requirement already satisfied: numpy in d:\\anaconda\\lib\\site-packages (from lightgbm) (1.24.3)\n",
      "Requirement already satisfied: scipy in d:\\anaconda\\lib\\site-packages (from lightgbm) (1.11.4)\n",
      "Downloading lightgbm-4.3.0-py3-none-win_amd64.whl (1.3 MB)\n",
      "   ---------------------------------------- 0.0/1.3 MB ? eta -:--:--\n",
      "    --------------------------------------- 0.0/1.3 MB 660.6 kB/s eta 0:00:02\n",
      "   - -------------------------------------- 0.1/1.3 MB 656.4 kB/s eta 0:00:02\n",
      "   --- ------------------------------------ 0.1/1.3 MB 1.0 MB/s eta 0:00:02\n",
      "   ------- -------------------------------- 0.3/1.3 MB 1.4 MB/s eta 0:00:01\n",
      "   ----------- ---------------------------- 0.4/1.3 MB 1.8 MB/s eta 0:00:01\n",
      "   ------------ --------------------------- 0.4/1.3 MB 1.8 MB/s eta 0:00:01\n",
      "   --------------- ------------------------ 0.5/1.3 MB 1.6 MB/s eta 0:00:01\n",
      "   ------------------ --------------------- 0.6/1.3 MB 1.9 MB/s eta 0:00:01\n",
      "   ------------------ --------------------- 0.6/1.3 MB 1.9 MB/s eta 0:00:01\n",
      "   -------------------------------- ------- 1.1/1.3 MB 2.4 MB/s eta 0:00:01\n",
      "   -------------------------------- ------- 1.1/1.3 MB 2.4 MB/s eta 0:00:01\n",
      "   ------------------------------------- -- 1.3/1.3 MB 2.4 MB/s eta 0:00:01\n",
      "   ------------------------------------- -- 1.3/1.3 MB 2.4 MB/s eta 0:00:01\n",
      "   ------------------------------------- -- 1.3/1.3 MB 2.4 MB/s eta 0:00:01\n",
      "   ------------------------------------- -- 1.3/1.3 MB 2.4 MB/s eta 0:00:01\n",
      "   ------------------------------------- -- 1.3/1.3 MB 2.4 MB/s eta 0:00:01\n",
      "   ------------------------------------- -- 1.3/1.3 MB 2.4 MB/s eta 0:00:01\n",
      "   ------------------------------------- -- 1.3/1.3 MB 2.4 MB/s eta 0:00:01\n",
      "   ------------------------------------- -- 1.3/1.3 MB 2.4 MB/s eta 0:00:01\n",
      "   ------------------------------------- -- 1.3/1.3 MB 2.4 MB/s eta 0:00:01\n",
      "   ------------------------------------- -- 1.3/1.3 MB 2.4 MB/s eta 0:00:01\n",
      "   ------------------------------------- -- 1.3/1.3 MB 2.4 MB/s eta 0:00:01\n",
      "   ------------------------------------- -- 1.3/1.3 MB 2.4 MB/s eta 0:00:01\n",
      "   ------------------------------------- -- 1.3/1.3 MB 2.4 MB/s eta 0:00:01\n",
      "   ------------------------------------- -- 1.3/1.3 MB 2.4 MB/s eta 0:00:01\n",
      "   ------------------------------------- -- 1.3/1.3 MB 2.4 MB/s eta 0:00:01\n",
      "   ------------------------------------- -- 1.3/1.3 MB 2.4 MB/s eta 0:00:01\n",
      "   ------------------------------------- -- 1.3/1.3 MB 2.4 MB/s eta 0:00:01\n",
      "   ------------------------------------- -- 1.3/1.3 MB 2.4 MB/s eta 0:00:01\n",
      "   ------------------------------------- -- 1.3/1.3 MB 2.4 MB/s eta 0:00:01\n",
      "   ------------------------------------- -- 1.3/1.3 MB 2.4 MB/s eta 0:00:01\n",
      "   ------------------------------------- -- 1.3/1.3 MB 2.4 MB/s eta 0:00:01\n",
      "   ------------------------------------- -- 1.3/1.3 MB 2.4 MB/s eta 0:00:01\n",
      "   ------------------------------------- -- 1.3/1.3 MB 2.4 MB/s eta 0:00:01\n",
      "   ------------------------------------- -- 1.3/1.3 MB 2.4 MB/s eta 0:00:01\n",
      "   ------------------------------------- -- 1.3/1.3 MB 2.4 MB/s eta 0:00:01\n",
      "   ------------------------------------- -- 1.3/1.3 MB 2.4 MB/s eta 0:00:01\n",
      "   ------------------------------------- -- 1.3/1.3 MB 2.4 MB/s eta 0:00:01\n",
      "   ------------------------------------- -- 1.3/1.3 MB 2.4 MB/s eta 0:00:01\n",
      "   ------------------------------------- -- 1.3/1.3 MB 2.4 MB/s eta 0:00:01\n",
      "   ------------------------------------- -- 1.3/1.3 MB 2.4 MB/s eta 0:00:01\n",
      "   ------------------------------------- -- 1.3/1.3 MB 2.4 MB/s eta 0:00:01\n",
      "   ------------------------------------- -- 1.3/1.3 MB 2.4 MB/s eta 0:00:01\n",
      "   -------------------------------------- - 1.3/1.3 MB 630.2 kB/s eta 0:00:01\n",
      "   -------------------------------------- - 1.3/1.3 MB 630.2 kB/s eta 0:00:01\n",
      "   ---------------------------------------  1.3/1.3 MB 616.3 kB/s eta 0:00:01\n",
      "   ---------------------------------------  1.3/1.3 MB 603.5 kB/s eta 0:00:01\n",
      "   ---------------------------------------- 1.3/1.3 MB 602.7 kB/s eta 0:00:00\n",
      "Installing collected packages: lightgbm\n",
      "Successfully installed lightgbm-4.3.0\n"
     ]
    }
   ],
   "source": [
    "!pip install lightgbm"
   ]
  },
  {
   "cell_type": "code",
   "execution_count": null,
   "id": "dc94d5d7",
   "metadata": {},
   "outputs": [],
   "source": [
    "from lightgbm import LGBMRegressor\n",
    "from sklearn.model_selection import GridSearchCV\n",
    "import time\n",
    "\n",
    "params = {\n",
    "    'max_depth': [3, 5, 10, 15],\n",
    "    'learning_rate': [0.01, 0.05, 0.3],\n",
    "    'n_estimators': [100, 200, 500],\n",
    "    'num_leaves': [20, 50, 100],\n",
    "    'reg_alpha': [0, 0.1, 0.5, 1.0],\n",
    "}\n",
    "\n",
    "lgbm = LGBMRegressor(random_state=42)\n",
    "\n",
    "grid_search = GridSearchCV(estimator=lgbm, param_grid=params, cv=3, scoring='neg_mean_squared_error', verbose=1, n_jobs=-1)\n",
    "start_time = time.time()\n",
    "grid_search.fit(X_train_encoded, y_train)\n",
    "training_time = time.time() - start_time\n",
    "\n",
    "best_params = grid_search.best_params_\n",
    "print('Лучшие параметры: ', best_params)\n",
    "\n",
    "best_lgbm = LGBMRegressor(**best_params, random_state=42)\n",
    "best_lgbm.fit(X_train_encoded, y_train)\n",
    "\n",
    "start_time = time.time()\n",
    "y_pred = best_lgbm.predict(X_valid_encoded)\n",
    "prediction_time = time.time() - start_time"
   ]
  },
  {
   "cell_type": "code",
   "execution_count": 14,
   "id": "M2-WvfIrV556",
   "metadata": {
    "id": "M2-WvfIrV556"
   },
   "outputs": [
    {
     "name": "stdout",
     "output_type": "stream",
     "text": [
      "MAPE:  0.3197231192301748\n",
      "RMSE:  49918.52166595032\n",
      "Время обучения:  278.23482298851013\n",
      "Время предсказания:  0.00853419303894043\n"
     ]
    }
   ],
   "source": [
    "mape = mean_absolute_percentage_error(y_valid, y_pred)\n",
    "rmse = mean_squared_error(y_valid, y_pred, squared=False)\n",
    "\n",
    "print('MAPE: ', mape)\n",
    "print('RMSE: ', rmse)\n",
    "\n",
    "print('Время обучения: ', training_time)\n",
    "print('Время предсказания: ', prediction_time)"
   ]
  },
  {
   "cell_type": "markdown",
   "id": "7c56d873",
   "metadata": {
    "id": "7c56d873"
   },
   "source": [
    "## Задание 6 (2 балла) Сравнение и выводы"
   ]
  },
  {
   "cell_type": "markdown",
   "id": "3a2c1148",
   "metadata": {
    "id": "3a2c1148"
   },
   "source": [
    "Сравните модели бустинга и сделайте про них выводы, какая из моделей показала лучший/худший результат по качеству, скорости обучения и скорости предсказания? Как отличаются гиперпараметры для разных моделей?"
   ]
  },
  {
   "cell_type": "markdown",
   "id": "gzelUdAl-V9u",
   "metadata": {
    "id": "gzelUdAl-V9u"
   },
   "source": [
    "**Ответ:** # \n",
    "Хуже всего работает линейная модель, она обучается быстро, но результаты по качеству дает ужасные. \n",
    "XGboost обучается чуть дольше, но не критично долго. Дает намного лучшие результаты по качеству, чем линейная модель. \n",
    "CatBoost, в отличие от XGboost обучается куда дольше, а время предсказания имеет почти такое же. При этом качетсво модели имеет почти такие же показатели, как и XGboost. LightGBM обучается дольше всех, при этом время предсказания занимает меньше времени. Показатели качества схожи с предыдущими 2-мя моделями. Можно сказать, что в данном случае лучше всего работает CatBoost.\n",
    "\n",
    "Также у данных моделей разные гиперпараметры. У каждой из моделей есть базовые гиперпараметры такие как количество деревьев, learning rate (контролирует вклад каждого из деревьев) и глубина деревьев. В XGboost есть гиперпараметр gamma (минимальное уменьшение потерь, необходимое для разделения узла), в CatBoost встроена работа с категориальными признаками, в LightGBM есть гиперпараметры для бэггинга (доля и частота)."
   ]
  },
  {
   "cell_type": "markdown",
   "id": "fokm4x1WmxQr",
   "metadata": {
    "id": "fokm4x1WmxQr"
   },
   "source": [
    "# Часть 2 Кластеризация (5 баллов)"
   ]
  },
  {
   "cell_type": "markdown",
   "id": "UZBpHMoNm1Sa",
   "metadata": {
    "id": "UZBpHMoNm1Sa"
   },
   "source": [
    "Будем работать с данными о том, каких исполнителей слушают пользователи музыкального сервиса.\n",
    "\n",
    "Каждая строка таблицы - информация об одном пользователе. Каждый столбец - это исполнитель (The Beatles, Radiohead, etc.)\n",
    "\n",
    "Для каждой пары (пользователь, исполнитель) в таблице стоит число - доля прослушивания этого исполнителя этим пользователем.\n"
   ]
  },
  {
   "cell_type": "code",
   "execution_count": 47,
   "id": "nGa-xYikoogL",
   "metadata": {
    "colab": {
     "base_uri": "https://localhost:8080/",
     "height": 290
    },
    "id": "nGa-xYikoogL",
    "outputId": "78cf46ec-1aae-4cb9-a457-5a7a47a16248"
   },
   "outputs": [
    {
     "data": {
      "text/html": [
       "<div>\n",
       "<style scoped>\n",
       "    .dataframe tbody tr th:only-of-type {\n",
       "        vertical-align: middle;\n",
       "    }\n",
       "\n",
       "    .dataframe tbody tr th {\n",
       "        vertical-align: top;\n",
       "    }\n",
       "\n",
       "    .dataframe thead th {\n",
       "        text-align: right;\n",
       "    }\n",
       "</style>\n",
       "<table border=\"1\" class=\"dataframe\">\n",
       "  <thead>\n",
       "    <tr style=\"text-align: right;\">\n",
       "      <th></th>\n",
       "      <th>user</th>\n",
       "      <th>the beatles</th>\n",
       "      <th>radiohead</th>\n",
       "      <th>deathcab for cutie</th>\n",
       "      <th>coldplay</th>\n",
       "      <th>modest mouse</th>\n",
       "      <th>sufjan stevens</th>\n",
       "      <th>dylan. bob</th>\n",
       "      <th>red hot clili peppers</th>\n",
       "      <th>pink fluid</th>\n",
       "      <th>...</th>\n",
       "      <th>municipal waste</th>\n",
       "      <th>townes van zandt</th>\n",
       "      <th>curtis mayfield</th>\n",
       "      <th>jewel</th>\n",
       "      <th>lamb</th>\n",
       "      <th>michal w. smith</th>\n",
       "      <th>群星</th>\n",
       "      <th>agalloch</th>\n",
       "      <th>meshuggah</th>\n",
       "      <th>yellowcard</th>\n",
       "    </tr>\n",
       "  </thead>\n",
       "  <tbody>\n",
       "    <tr>\n",
       "      <th>0</th>\n",
       "      <td>0</td>\n",
       "      <td>NaN</td>\n",
       "      <td>0.020417</td>\n",
       "      <td>NaN</td>\n",
       "      <td>NaN</td>\n",
       "      <td>NaN</td>\n",
       "      <td>NaN</td>\n",
       "      <td>NaN</td>\n",
       "      <td>0.030496</td>\n",
       "      <td>NaN</td>\n",
       "      <td>...</td>\n",
       "      <td>NaN</td>\n",
       "      <td>NaN</td>\n",
       "      <td>NaN</td>\n",
       "      <td>NaN</td>\n",
       "      <td>NaN</td>\n",
       "      <td>NaN</td>\n",
       "      <td>NaN</td>\n",
       "      <td>NaN</td>\n",
       "      <td>NaN</td>\n",
       "      <td>NaN</td>\n",
       "    </tr>\n",
       "    <tr>\n",
       "      <th>1</th>\n",
       "      <td>1</td>\n",
       "      <td>NaN</td>\n",
       "      <td>0.184962</td>\n",
       "      <td>0.024561</td>\n",
       "      <td>NaN</td>\n",
       "      <td>NaN</td>\n",
       "      <td>0.136341</td>\n",
       "      <td>NaN</td>\n",
       "      <td>NaN</td>\n",
       "      <td>NaN</td>\n",
       "      <td>...</td>\n",
       "      <td>NaN</td>\n",
       "      <td>NaN</td>\n",
       "      <td>NaN</td>\n",
       "      <td>NaN</td>\n",
       "      <td>NaN</td>\n",
       "      <td>NaN</td>\n",
       "      <td>NaN</td>\n",
       "      <td>NaN</td>\n",
       "      <td>NaN</td>\n",
       "      <td>NaN</td>\n",
       "    </tr>\n",
       "    <tr>\n",
       "      <th>2</th>\n",
       "      <td>2</td>\n",
       "      <td>NaN</td>\n",
       "      <td>NaN</td>\n",
       "      <td>0.028635</td>\n",
       "      <td>NaN</td>\n",
       "      <td>NaN</td>\n",
       "      <td>NaN</td>\n",
       "      <td>0.024559</td>\n",
       "      <td>NaN</td>\n",
       "      <td>NaN</td>\n",
       "      <td>...</td>\n",
       "      <td>NaN</td>\n",
       "      <td>NaN</td>\n",
       "      <td>NaN</td>\n",
       "      <td>NaN</td>\n",
       "      <td>NaN</td>\n",
       "      <td>NaN</td>\n",
       "      <td>NaN</td>\n",
       "      <td>NaN</td>\n",
       "      <td>NaN</td>\n",
       "      <td>NaN</td>\n",
       "    </tr>\n",
       "    <tr>\n",
       "      <th>3</th>\n",
       "      <td>3</td>\n",
       "      <td>NaN</td>\n",
       "      <td>NaN</td>\n",
       "      <td>NaN</td>\n",
       "      <td>NaN</td>\n",
       "      <td>NaN</td>\n",
       "      <td>NaN</td>\n",
       "      <td>NaN</td>\n",
       "      <td>NaN</td>\n",
       "      <td>NaN</td>\n",
       "      <td>...</td>\n",
       "      <td>NaN</td>\n",
       "      <td>NaN</td>\n",
       "      <td>NaN</td>\n",
       "      <td>NaN</td>\n",
       "      <td>NaN</td>\n",
       "      <td>NaN</td>\n",
       "      <td>NaN</td>\n",
       "      <td>NaN</td>\n",
       "      <td>NaN</td>\n",
       "      <td>NaN</td>\n",
       "    </tr>\n",
       "    <tr>\n",
       "      <th>4</th>\n",
       "      <td>4</td>\n",
       "      <td>0.043529</td>\n",
       "      <td>0.086281</td>\n",
       "      <td>0.034590</td>\n",
       "      <td>0.016712</td>\n",
       "      <td>0.015935</td>\n",
       "      <td>NaN</td>\n",
       "      <td>NaN</td>\n",
       "      <td>NaN</td>\n",
       "      <td>NaN</td>\n",
       "      <td>...</td>\n",
       "      <td>NaN</td>\n",
       "      <td>NaN</td>\n",
       "      <td>NaN</td>\n",
       "      <td>NaN</td>\n",
       "      <td>NaN</td>\n",
       "      <td>NaN</td>\n",
       "      <td>NaN</td>\n",
       "      <td>NaN</td>\n",
       "      <td>NaN</td>\n",
       "      <td>NaN</td>\n",
       "    </tr>\n",
       "  </tbody>\n",
       "</table>\n",
       "<p>5 rows × 1001 columns</p>\n",
       "</div>"
      ],
      "text/plain": [
       "   user  the beatles  radiohead  deathcab for cutie  coldplay  modest mouse  \\\n",
       "0     0          NaN   0.020417                 NaN       NaN           NaN   \n",
       "1     1          NaN   0.184962            0.024561       NaN           NaN   \n",
       "2     2          NaN        NaN            0.028635       NaN           NaN   \n",
       "3     3          NaN        NaN                 NaN       NaN           NaN   \n",
       "4     4     0.043529   0.086281            0.034590  0.016712      0.015935   \n",
       "\n",
       "   sufjan stevens  dylan. bob  red hot clili peppers  pink fluid  ...  \\\n",
       "0             NaN         NaN               0.030496         NaN  ...   \n",
       "1        0.136341         NaN                    NaN         NaN  ...   \n",
       "2             NaN    0.024559                    NaN         NaN  ...   \n",
       "3             NaN         NaN                    NaN         NaN  ...   \n",
       "4             NaN         NaN                    NaN         NaN  ...   \n",
       "\n",
       "   municipal waste  townes van zandt  curtis mayfield  jewel  lamb  \\\n",
       "0              NaN               NaN              NaN    NaN   NaN   \n",
       "1              NaN               NaN              NaN    NaN   NaN   \n",
       "2              NaN               NaN              NaN    NaN   NaN   \n",
       "3              NaN               NaN              NaN    NaN   NaN   \n",
       "4              NaN               NaN              NaN    NaN   NaN   \n",
       "\n",
       "   michal w. smith  群星  agalloch  meshuggah  yellowcard  \n",
       "0              NaN NaN       NaN        NaN         NaN  \n",
       "1              NaN NaN       NaN        NaN         NaN  \n",
       "2              NaN NaN       NaN        NaN         NaN  \n",
       "3              NaN NaN       NaN        NaN         NaN  \n",
       "4              NaN NaN       NaN        NaN         NaN  \n",
       "\n",
       "[5 rows x 1001 columns]"
      ]
     },
     "execution_count": 47,
     "metadata": {},
     "output_type": "execute_result"
    }
   ],
   "source": [
    "import pandas as pd\n",
    "ratings = pd.read_excel(\"https://github.com/evgpat/edu_stepik_rec_sys/blob/main/datasets/sample_matrix.xlsx?raw=true\", engine='openpyxl')\n",
    "ratings.head()"
   ]
  },
  {
   "cell_type": "markdown",
   "id": "sGeCPjTAoxWs",
   "metadata": {
    "id": "sGeCPjTAoxWs"
   },
   "source": [
    "Будем строить кластеризацию исполнителей: если двух исполнителей слушало много людей примерно одинаковую долю своего времени (то есть векторы близки в пространстве), то, возможно исполнители похожи. Эта информация может быть полезна при построении рекомендательных систем."
   ]
  },
  {
   "cell_type": "markdown",
   "id": "R37mE-R2_3Wj",
   "metadata": {
    "id": "R37mE-R2_3Wj"
   },
   "source": [
    "## Задание 1 (0.5 балла) Подготовка"
   ]
  },
  {
   "cell_type": "markdown",
   "id": "orn7K6q8plA5",
   "metadata": {
    "id": "orn7K6q8plA5"
   },
   "source": [
    "Транспонируем матрицу ratings, чтобы по строкам стояли исполнители."
   ]
  },
  {
   "cell_type": "code",
   "execution_count": 48,
   "id": "KU6ljPlCpiwH",
   "metadata": {
    "id": "KU6ljPlCpiwH"
   },
   "outputs": [
    {
     "data": {
      "text/html": [
       "<div>\n",
       "<style scoped>\n",
       "    .dataframe tbody tr th:only-of-type {\n",
       "        vertical-align: middle;\n",
       "    }\n",
       "\n",
       "    .dataframe tbody tr th {\n",
       "        vertical-align: top;\n",
       "    }\n",
       "\n",
       "    .dataframe thead th {\n",
       "        text-align: right;\n",
       "    }\n",
       "</style>\n",
       "<table border=\"1\" class=\"dataframe\">\n",
       "  <thead>\n",
       "    <tr style=\"text-align: right;\">\n",
       "      <th></th>\n",
       "      <th>0</th>\n",
       "      <th>1</th>\n",
       "      <th>2</th>\n",
       "      <th>3</th>\n",
       "      <th>4</th>\n",
       "      <th>5</th>\n",
       "      <th>6</th>\n",
       "      <th>7</th>\n",
       "      <th>8</th>\n",
       "      <th>9</th>\n",
       "      <th>...</th>\n",
       "      <th>4990</th>\n",
       "      <th>4991</th>\n",
       "      <th>4992</th>\n",
       "      <th>4993</th>\n",
       "      <th>4994</th>\n",
       "      <th>4995</th>\n",
       "      <th>4996</th>\n",
       "      <th>4997</th>\n",
       "      <th>4998</th>\n",
       "      <th>4999</th>\n",
       "    </tr>\n",
       "  </thead>\n",
       "  <tbody>\n",
       "    <tr>\n",
       "      <th>user</th>\n",
       "      <td>0.000000</td>\n",
       "      <td>1.000000</td>\n",
       "      <td>2.000000</td>\n",
       "      <td>3.0</td>\n",
       "      <td>4.000000</td>\n",
       "      <td>5.000000</td>\n",
       "      <td>6.0</td>\n",
       "      <td>7.0</td>\n",
       "      <td>8.000000</td>\n",
       "      <td>9.000000</td>\n",
       "      <td>...</td>\n",
       "      <td>4990.000000</td>\n",
       "      <td>4991.0</td>\n",
       "      <td>4992.000000</td>\n",
       "      <td>4993.000000</td>\n",
       "      <td>4994.000000</td>\n",
       "      <td>4995.000000</td>\n",
       "      <td>4996.0</td>\n",
       "      <td>4997.000000</td>\n",
       "      <td>4998.0</td>\n",
       "      <td>4999.000000</td>\n",
       "    </tr>\n",
       "    <tr>\n",
       "      <th>the beatles</th>\n",
       "      <td>NaN</td>\n",
       "      <td>NaN</td>\n",
       "      <td>NaN</td>\n",
       "      <td>NaN</td>\n",
       "      <td>0.043529</td>\n",
       "      <td>NaN</td>\n",
       "      <td>NaN</td>\n",
       "      <td>NaN</td>\n",
       "      <td>0.093398</td>\n",
       "      <td>0.017621</td>\n",
       "      <td>...</td>\n",
       "      <td>NaN</td>\n",
       "      <td>NaN</td>\n",
       "      <td>0.121169</td>\n",
       "      <td>0.038168</td>\n",
       "      <td>0.007939</td>\n",
       "      <td>0.017884</td>\n",
       "      <td>NaN</td>\n",
       "      <td>0.076923</td>\n",
       "      <td>NaN</td>\n",
       "      <td>NaN</td>\n",
       "    </tr>\n",
       "    <tr>\n",
       "      <th>radiohead</th>\n",
       "      <td>0.020417</td>\n",
       "      <td>0.184962</td>\n",
       "      <td>NaN</td>\n",
       "      <td>NaN</td>\n",
       "      <td>0.086281</td>\n",
       "      <td>0.006322</td>\n",
       "      <td>NaN</td>\n",
       "      <td>NaN</td>\n",
       "      <td>NaN</td>\n",
       "      <td>0.019156</td>\n",
       "      <td>...</td>\n",
       "      <td>0.017735</td>\n",
       "      <td>NaN</td>\n",
       "      <td>NaN</td>\n",
       "      <td>NaN</td>\n",
       "      <td>0.011187</td>\n",
       "      <td>NaN</td>\n",
       "      <td>NaN</td>\n",
       "      <td>NaN</td>\n",
       "      <td>NaN</td>\n",
       "      <td>NaN</td>\n",
       "    </tr>\n",
       "    <tr>\n",
       "      <th>deathcab for cutie</th>\n",
       "      <td>NaN</td>\n",
       "      <td>0.024561</td>\n",
       "      <td>0.028635</td>\n",
       "      <td>NaN</td>\n",
       "      <td>0.034590</td>\n",
       "      <td>NaN</td>\n",
       "      <td>NaN</td>\n",
       "      <td>NaN</td>\n",
       "      <td>NaN</td>\n",
       "      <td>0.013349</td>\n",
       "      <td>...</td>\n",
       "      <td>0.121344</td>\n",
       "      <td>NaN</td>\n",
       "      <td>NaN</td>\n",
       "      <td>NaN</td>\n",
       "      <td>NaN</td>\n",
       "      <td>NaN</td>\n",
       "      <td>NaN</td>\n",
       "      <td>NaN</td>\n",
       "      <td>NaN</td>\n",
       "      <td>0.027893</td>\n",
       "    </tr>\n",
       "    <tr>\n",
       "      <th>coldplay</th>\n",
       "      <td>NaN</td>\n",
       "      <td>NaN</td>\n",
       "      <td>NaN</td>\n",
       "      <td>NaN</td>\n",
       "      <td>0.016712</td>\n",
       "      <td>NaN</td>\n",
       "      <td>NaN</td>\n",
       "      <td>NaN</td>\n",
       "      <td>NaN</td>\n",
       "      <td>NaN</td>\n",
       "      <td>...</td>\n",
       "      <td>0.217175</td>\n",
       "      <td>NaN</td>\n",
       "      <td>NaN</td>\n",
       "      <td>NaN</td>\n",
       "      <td>NaN</td>\n",
       "      <td>NaN</td>\n",
       "      <td>NaN</td>\n",
       "      <td>NaN</td>\n",
       "      <td>NaN</td>\n",
       "      <td>NaN</td>\n",
       "    </tr>\n",
       "  </tbody>\n",
       "</table>\n",
       "<p>5 rows × 5000 columns</p>\n",
       "</div>"
      ],
      "text/plain": [
       "                        0         1         2     3         4         5     \\\n",
       "user                0.000000  1.000000  2.000000   3.0  4.000000  5.000000   \n",
       "the beatles              NaN       NaN       NaN   NaN  0.043529       NaN   \n",
       "radiohead           0.020417  0.184962       NaN   NaN  0.086281  0.006322   \n",
       "deathcab for cutie       NaN  0.024561  0.028635   NaN  0.034590       NaN   \n",
       "coldplay                 NaN       NaN       NaN   NaN  0.016712       NaN   \n",
       "\n",
       "                    6     7         8         9     ...         4990    4991  \\\n",
       "user                 6.0   7.0  8.000000  9.000000  ...  4990.000000  4991.0   \n",
       "the beatles          NaN   NaN  0.093398  0.017621  ...          NaN     NaN   \n",
       "radiohead            NaN   NaN       NaN  0.019156  ...     0.017735     NaN   \n",
       "deathcab for cutie   NaN   NaN       NaN  0.013349  ...     0.121344     NaN   \n",
       "coldplay             NaN   NaN       NaN       NaN  ...     0.217175     NaN   \n",
       "\n",
       "                           4992         4993         4994         4995  \\\n",
       "user                4992.000000  4993.000000  4994.000000  4995.000000   \n",
       "the beatles            0.121169     0.038168     0.007939     0.017884   \n",
       "radiohead                   NaN          NaN     0.011187          NaN   \n",
       "deathcab for cutie          NaN          NaN          NaN          NaN   \n",
       "coldplay                    NaN          NaN          NaN          NaN   \n",
       "\n",
       "                      4996         4997    4998         4999  \n",
       "user                4996.0  4997.000000  4998.0  4999.000000  \n",
       "the beatles            NaN     0.076923     NaN          NaN  \n",
       "radiohead              NaN          NaN     NaN          NaN  \n",
       "deathcab for cutie     NaN          NaN     NaN     0.027893  \n",
       "coldplay               NaN          NaN     NaN          NaN  \n",
       "\n",
       "[5 rows x 5000 columns]"
      ]
     },
     "execution_count": 48,
     "metadata": {},
     "output_type": "execute_result"
    }
   ],
   "source": [
    "ratings = ratings.transpose()\n",
    "ratings.head()"
   ]
  },
  {
   "cell_type": "markdown",
   "id": "WEKrlEhMpkhF",
   "metadata": {
    "id": "WEKrlEhMpkhF"
   },
   "source": [
    "Выкиньте строку под названием `user`."
   ]
  },
  {
   "cell_type": "code",
   "execution_count": 49,
   "id": "yAaV1q9TpuMh",
   "metadata": {
    "id": "yAaV1q9TpuMh"
   },
   "outputs": [
    {
     "data": {
      "text/html": [
       "<div>\n",
       "<style scoped>\n",
       "    .dataframe tbody tr th:only-of-type {\n",
       "        vertical-align: middle;\n",
       "    }\n",
       "\n",
       "    .dataframe tbody tr th {\n",
       "        vertical-align: top;\n",
       "    }\n",
       "\n",
       "    .dataframe thead th {\n",
       "        text-align: right;\n",
       "    }\n",
       "</style>\n",
       "<table border=\"1\" class=\"dataframe\">\n",
       "  <thead>\n",
       "    <tr style=\"text-align: right;\">\n",
       "      <th></th>\n",
       "      <th>0</th>\n",
       "      <th>1</th>\n",
       "      <th>2</th>\n",
       "      <th>3</th>\n",
       "      <th>4</th>\n",
       "      <th>5</th>\n",
       "      <th>6</th>\n",
       "      <th>7</th>\n",
       "      <th>8</th>\n",
       "      <th>9</th>\n",
       "      <th>...</th>\n",
       "      <th>4990</th>\n",
       "      <th>4991</th>\n",
       "      <th>4992</th>\n",
       "      <th>4993</th>\n",
       "      <th>4994</th>\n",
       "      <th>4995</th>\n",
       "      <th>4996</th>\n",
       "      <th>4997</th>\n",
       "      <th>4998</th>\n",
       "      <th>4999</th>\n",
       "    </tr>\n",
       "  </thead>\n",
       "  <tbody>\n",
       "    <tr>\n",
       "      <th>the beatles</th>\n",
       "      <td>NaN</td>\n",
       "      <td>NaN</td>\n",
       "      <td>NaN</td>\n",
       "      <td>NaN</td>\n",
       "      <td>0.043529</td>\n",
       "      <td>NaN</td>\n",
       "      <td>NaN</td>\n",
       "      <td>NaN</td>\n",
       "      <td>0.093398</td>\n",
       "      <td>0.017621</td>\n",
       "      <td>...</td>\n",
       "      <td>NaN</td>\n",
       "      <td>NaN</td>\n",
       "      <td>0.121169</td>\n",
       "      <td>0.038168</td>\n",
       "      <td>0.007939</td>\n",
       "      <td>0.017884</td>\n",
       "      <td>NaN</td>\n",
       "      <td>0.076923</td>\n",
       "      <td>NaN</td>\n",
       "      <td>NaN</td>\n",
       "    </tr>\n",
       "    <tr>\n",
       "      <th>radiohead</th>\n",
       "      <td>0.020417</td>\n",
       "      <td>0.184962</td>\n",
       "      <td>NaN</td>\n",
       "      <td>NaN</td>\n",
       "      <td>0.086281</td>\n",
       "      <td>0.006322</td>\n",
       "      <td>NaN</td>\n",
       "      <td>NaN</td>\n",
       "      <td>NaN</td>\n",
       "      <td>0.019156</td>\n",
       "      <td>...</td>\n",
       "      <td>0.017735</td>\n",
       "      <td>NaN</td>\n",
       "      <td>NaN</td>\n",
       "      <td>NaN</td>\n",
       "      <td>0.011187</td>\n",
       "      <td>NaN</td>\n",
       "      <td>NaN</td>\n",
       "      <td>NaN</td>\n",
       "      <td>NaN</td>\n",
       "      <td>NaN</td>\n",
       "    </tr>\n",
       "    <tr>\n",
       "      <th>deathcab for cutie</th>\n",
       "      <td>NaN</td>\n",
       "      <td>0.024561</td>\n",
       "      <td>0.028635</td>\n",
       "      <td>NaN</td>\n",
       "      <td>0.034590</td>\n",
       "      <td>NaN</td>\n",
       "      <td>NaN</td>\n",
       "      <td>NaN</td>\n",
       "      <td>NaN</td>\n",
       "      <td>0.013349</td>\n",
       "      <td>...</td>\n",
       "      <td>0.121344</td>\n",
       "      <td>NaN</td>\n",
       "      <td>NaN</td>\n",
       "      <td>NaN</td>\n",
       "      <td>NaN</td>\n",
       "      <td>NaN</td>\n",
       "      <td>NaN</td>\n",
       "      <td>NaN</td>\n",
       "      <td>NaN</td>\n",
       "      <td>0.027893</td>\n",
       "    </tr>\n",
       "    <tr>\n",
       "      <th>coldplay</th>\n",
       "      <td>NaN</td>\n",
       "      <td>NaN</td>\n",
       "      <td>NaN</td>\n",
       "      <td>NaN</td>\n",
       "      <td>0.016712</td>\n",
       "      <td>NaN</td>\n",
       "      <td>NaN</td>\n",
       "      <td>NaN</td>\n",
       "      <td>NaN</td>\n",
       "      <td>NaN</td>\n",
       "      <td>...</td>\n",
       "      <td>0.217175</td>\n",
       "      <td>NaN</td>\n",
       "      <td>NaN</td>\n",
       "      <td>NaN</td>\n",
       "      <td>NaN</td>\n",
       "      <td>NaN</td>\n",
       "      <td>NaN</td>\n",
       "      <td>NaN</td>\n",
       "      <td>NaN</td>\n",
       "      <td>NaN</td>\n",
       "    </tr>\n",
       "    <tr>\n",
       "      <th>modest mouse</th>\n",
       "      <td>NaN</td>\n",
       "      <td>NaN</td>\n",
       "      <td>NaN</td>\n",
       "      <td>NaN</td>\n",
       "      <td>0.015935</td>\n",
       "      <td>NaN</td>\n",
       "      <td>NaN</td>\n",
       "      <td>NaN</td>\n",
       "      <td>NaN</td>\n",
       "      <td>0.030437</td>\n",
       "      <td>...</td>\n",
       "      <td>NaN</td>\n",
       "      <td>NaN</td>\n",
       "      <td>NaN</td>\n",
       "      <td>NaN</td>\n",
       "      <td>NaN</td>\n",
       "      <td>NaN</td>\n",
       "      <td>NaN</td>\n",
       "      <td>NaN</td>\n",
       "      <td>NaN</td>\n",
       "      <td>NaN</td>\n",
       "    </tr>\n",
       "    <tr>\n",
       "      <th>...</th>\n",
       "      <td>...</td>\n",
       "      <td>...</td>\n",
       "      <td>...</td>\n",
       "      <td>...</td>\n",
       "      <td>...</td>\n",
       "      <td>...</td>\n",
       "      <td>...</td>\n",
       "      <td>...</td>\n",
       "      <td>...</td>\n",
       "      <td>...</td>\n",
       "      <td>...</td>\n",
       "      <td>...</td>\n",
       "      <td>...</td>\n",
       "      <td>...</td>\n",
       "      <td>...</td>\n",
       "      <td>...</td>\n",
       "      <td>...</td>\n",
       "      <td>...</td>\n",
       "      <td>...</td>\n",
       "      <td>...</td>\n",
       "      <td>...</td>\n",
       "    </tr>\n",
       "    <tr>\n",
       "      <th>michal w. smith</th>\n",
       "      <td>NaN</td>\n",
       "      <td>NaN</td>\n",
       "      <td>NaN</td>\n",
       "      <td>NaN</td>\n",
       "      <td>NaN</td>\n",
       "      <td>NaN</td>\n",
       "      <td>NaN</td>\n",
       "      <td>NaN</td>\n",
       "      <td>NaN</td>\n",
       "      <td>NaN</td>\n",
       "      <td>...</td>\n",
       "      <td>NaN</td>\n",
       "      <td>NaN</td>\n",
       "      <td>NaN</td>\n",
       "      <td>NaN</td>\n",
       "      <td>NaN</td>\n",
       "      <td>NaN</td>\n",
       "      <td>NaN</td>\n",
       "      <td>NaN</td>\n",
       "      <td>NaN</td>\n",
       "      <td>NaN</td>\n",
       "    </tr>\n",
       "    <tr>\n",
       "      <th>群星</th>\n",
       "      <td>NaN</td>\n",
       "      <td>NaN</td>\n",
       "      <td>NaN</td>\n",
       "      <td>NaN</td>\n",
       "      <td>NaN</td>\n",
       "      <td>NaN</td>\n",
       "      <td>NaN</td>\n",
       "      <td>NaN</td>\n",
       "      <td>NaN</td>\n",
       "      <td>NaN</td>\n",
       "      <td>...</td>\n",
       "      <td>NaN</td>\n",
       "      <td>NaN</td>\n",
       "      <td>NaN</td>\n",
       "      <td>NaN</td>\n",
       "      <td>NaN</td>\n",
       "      <td>NaN</td>\n",
       "      <td>NaN</td>\n",
       "      <td>NaN</td>\n",
       "      <td>NaN</td>\n",
       "      <td>NaN</td>\n",
       "    </tr>\n",
       "    <tr>\n",
       "      <th>agalloch</th>\n",
       "      <td>NaN</td>\n",
       "      <td>NaN</td>\n",
       "      <td>NaN</td>\n",
       "      <td>NaN</td>\n",
       "      <td>NaN</td>\n",
       "      <td>NaN</td>\n",
       "      <td>NaN</td>\n",
       "      <td>NaN</td>\n",
       "      <td>NaN</td>\n",
       "      <td>NaN</td>\n",
       "      <td>...</td>\n",
       "      <td>NaN</td>\n",
       "      <td>NaN</td>\n",
       "      <td>NaN</td>\n",
       "      <td>NaN</td>\n",
       "      <td>NaN</td>\n",
       "      <td>NaN</td>\n",
       "      <td>NaN</td>\n",
       "      <td>NaN</td>\n",
       "      <td>NaN</td>\n",
       "      <td>NaN</td>\n",
       "    </tr>\n",
       "    <tr>\n",
       "      <th>meshuggah</th>\n",
       "      <td>NaN</td>\n",
       "      <td>NaN</td>\n",
       "      <td>NaN</td>\n",
       "      <td>NaN</td>\n",
       "      <td>NaN</td>\n",
       "      <td>NaN</td>\n",
       "      <td>NaN</td>\n",
       "      <td>NaN</td>\n",
       "      <td>NaN</td>\n",
       "      <td>NaN</td>\n",
       "      <td>...</td>\n",
       "      <td>NaN</td>\n",
       "      <td>NaN</td>\n",
       "      <td>NaN</td>\n",
       "      <td>NaN</td>\n",
       "      <td>NaN</td>\n",
       "      <td>NaN</td>\n",
       "      <td>NaN</td>\n",
       "      <td>NaN</td>\n",
       "      <td>NaN</td>\n",
       "      <td>NaN</td>\n",
       "    </tr>\n",
       "    <tr>\n",
       "      <th>yellowcard</th>\n",
       "      <td>NaN</td>\n",
       "      <td>NaN</td>\n",
       "      <td>NaN</td>\n",
       "      <td>NaN</td>\n",
       "      <td>NaN</td>\n",
       "      <td>NaN</td>\n",
       "      <td>NaN</td>\n",
       "      <td>NaN</td>\n",
       "      <td>NaN</td>\n",
       "      <td>NaN</td>\n",
       "      <td>...</td>\n",
       "      <td>NaN</td>\n",
       "      <td>NaN</td>\n",
       "      <td>NaN</td>\n",
       "      <td>NaN</td>\n",
       "      <td>NaN</td>\n",
       "      <td>NaN</td>\n",
       "      <td>NaN</td>\n",
       "      <td>NaN</td>\n",
       "      <td>NaN</td>\n",
       "      <td>NaN</td>\n",
       "    </tr>\n",
       "  </tbody>\n",
       "</table>\n",
       "<p>1000 rows × 5000 columns</p>\n",
       "</div>"
      ],
      "text/plain": [
       "                        0         1         2     3         4         5     \\\n",
       "the beatles              NaN       NaN       NaN   NaN  0.043529       NaN   \n",
       "radiohead           0.020417  0.184962       NaN   NaN  0.086281  0.006322   \n",
       "deathcab for cutie       NaN  0.024561  0.028635   NaN  0.034590       NaN   \n",
       "coldplay                 NaN       NaN       NaN   NaN  0.016712       NaN   \n",
       "modest mouse             NaN       NaN       NaN   NaN  0.015935       NaN   \n",
       "...                      ...       ...       ...   ...       ...       ...   \n",
       "michal w. smith          NaN       NaN       NaN   NaN       NaN       NaN   \n",
       "群星                       NaN       NaN       NaN   NaN       NaN       NaN   \n",
       "agalloch                 NaN       NaN       NaN   NaN       NaN       NaN   \n",
       "meshuggah                NaN       NaN       NaN   NaN       NaN       NaN   \n",
       "yellowcard               NaN       NaN       NaN   NaN       NaN       NaN   \n",
       "\n",
       "                    6     7         8         9     ...      4990  4991  \\\n",
       "the beatles          NaN   NaN  0.093398  0.017621  ...       NaN   NaN   \n",
       "radiohead            NaN   NaN       NaN  0.019156  ...  0.017735   NaN   \n",
       "deathcab for cutie   NaN   NaN       NaN  0.013349  ...  0.121344   NaN   \n",
       "coldplay             NaN   NaN       NaN       NaN  ...  0.217175   NaN   \n",
       "modest mouse         NaN   NaN       NaN  0.030437  ...       NaN   NaN   \n",
       "...                  ...   ...       ...       ...  ...       ...   ...   \n",
       "michal w. smith      NaN   NaN       NaN       NaN  ...       NaN   NaN   \n",
       "群星                   NaN   NaN       NaN       NaN  ...       NaN   NaN   \n",
       "agalloch             NaN   NaN       NaN       NaN  ...       NaN   NaN   \n",
       "meshuggah            NaN   NaN       NaN       NaN  ...       NaN   NaN   \n",
       "yellowcard           NaN   NaN       NaN       NaN  ...       NaN   NaN   \n",
       "\n",
       "                        4992      4993      4994      4995  4996      4997  \\\n",
       "the beatles         0.121169  0.038168  0.007939  0.017884   NaN  0.076923   \n",
       "radiohead                NaN       NaN  0.011187       NaN   NaN       NaN   \n",
       "deathcab for cutie       NaN       NaN       NaN       NaN   NaN       NaN   \n",
       "coldplay                 NaN       NaN       NaN       NaN   NaN       NaN   \n",
       "modest mouse             NaN       NaN       NaN       NaN   NaN       NaN   \n",
       "...                      ...       ...       ...       ...   ...       ...   \n",
       "michal w. smith          NaN       NaN       NaN       NaN   NaN       NaN   \n",
       "群星                       NaN       NaN       NaN       NaN   NaN       NaN   \n",
       "agalloch                 NaN       NaN       NaN       NaN   NaN       NaN   \n",
       "meshuggah                NaN       NaN       NaN       NaN   NaN       NaN   \n",
       "yellowcard               NaN       NaN       NaN       NaN   NaN       NaN   \n",
       "\n",
       "                    4998      4999  \n",
       "the beatles          NaN       NaN  \n",
       "radiohead            NaN       NaN  \n",
       "deathcab for cutie   NaN  0.027893  \n",
       "coldplay             NaN       NaN  \n",
       "modest mouse         NaN       NaN  \n",
       "...                  ...       ...  \n",
       "michal w. smith      NaN       NaN  \n",
       "群星                   NaN       NaN  \n",
       "agalloch             NaN       NaN  \n",
       "meshuggah            NaN       NaN  \n",
       "yellowcard           NaN       NaN  \n",
       "\n",
       "[1000 rows x 5000 columns]"
      ]
     },
     "execution_count": 49,
     "metadata": {},
     "output_type": "execute_result"
    }
   ],
   "source": [
    "ratings = ratings.drop('user')\n",
    "ratings"
   ]
  },
  {
   "cell_type": "markdown",
   "id": "Z823IqqPpv_s",
   "metadata": {
    "id": "Z823IqqPpv_s"
   },
   "source": [
    "В таблице много пропусков, так как пользователи слушают не всех-всех исполнителей, чья музыка представлена в сервисе, а некоторое подмножество (обычно около 30 исполнителей)\n",
    "\n",
    "\n",
    "Доля исполнителя в музыке, прослушанной  пользователем, равна 0, если пользователь никогда не слушал музыку данного музыканта, поэтому заполните пропуски нулями.\n",
    "\n"
   ]
  },
  {
   "cell_type": "code",
   "execution_count": 50,
   "id": "XRdHzXJUsOeS",
   "metadata": {
    "colab": {
     "base_uri": "https://localhost:8080/",
     "height": 110
    },
    "id": "XRdHzXJUsOeS",
    "outputId": "499ea6da-ce25-4a04-8827-79306a3c39b2"
   },
   "outputs": [
    {
     "data": {
      "text/html": [
       "<div>\n",
       "<style scoped>\n",
       "    .dataframe tbody tr th:only-of-type {\n",
       "        vertical-align: middle;\n",
       "    }\n",
       "\n",
       "    .dataframe tbody tr th {\n",
       "        vertical-align: top;\n",
       "    }\n",
       "\n",
       "    .dataframe thead th {\n",
       "        text-align: right;\n",
       "    }\n",
       "</style>\n",
       "<table border=\"1\" class=\"dataframe\">\n",
       "  <thead>\n",
       "    <tr style=\"text-align: right;\">\n",
       "      <th></th>\n",
       "      <th>0</th>\n",
       "      <th>1</th>\n",
       "      <th>2</th>\n",
       "      <th>3</th>\n",
       "      <th>4</th>\n",
       "      <th>5</th>\n",
       "      <th>6</th>\n",
       "      <th>7</th>\n",
       "      <th>8</th>\n",
       "      <th>9</th>\n",
       "      <th>...</th>\n",
       "      <th>4990</th>\n",
       "      <th>4991</th>\n",
       "      <th>4992</th>\n",
       "      <th>4993</th>\n",
       "      <th>4994</th>\n",
       "      <th>4995</th>\n",
       "      <th>4996</th>\n",
       "      <th>4997</th>\n",
       "      <th>4998</th>\n",
       "      <th>4999</th>\n",
       "    </tr>\n",
       "  </thead>\n",
       "  <tbody>\n",
       "    <tr>\n",
       "      <th>ross, rick</th>\n",
       "      <td>0.0</td>\n",
       "      <td>0.0</td>\n",
       "      <td>0.0</td>\n",
       "      <td>0.0</td>\n",
       "      <td>0.0</td>\n",
       "      <td>0.0</td>\n",
       "      <td>0.0</td>\n",
       "      <td>0.0</td>\n",
       "      <td>0.0</td>\n",
       "      <td>0.0</td>\n",
       "      <td>...</td>\n",
       "      <td>0.0</td>\n",
       "      <td>0.0</td>\n",
       "      <td>0.0</td>\n",
       "      <td>0.0</td>\n",
       "      <td>0.0</td>\n",
       "      <td>0.0</td>\n",
       "      <td>0.0</td>\n",
       "      <td>0.0</td>\n",
       "      <td>0.0</td>\n",
       "      <td>0.0</td>\n",
       "    </tr>\n",
       "  </tbody>\n",
       "</table>\n",
       "<p>1 rows × 5000 columns</p>\n",
       "</div>"
      ],
      "text/plain": [
       "            0     1     2     3     4     5     6     7     8     9     ...  \\\n",
       "ross, rick   0.0   0.0   0.0   0.0   0.0   0.0   0.0   0.0   0.0   0.0  ...   \n",
       "\n",
       "            4990  4991  4992  4993  4994  4995  4996  4997  4998  4999  \n",
       "ross, rick   0.0   0.0   0.0   0.0   0.0   0.0   0.0   0.0   0.0   0.0  \n",
       "\n",
       "[1 rows x 5000 columns]"
      ]
     },
     "execution_count": 50,
     "metadata": {},
     "output_type": "execute_result"
    }
   ],
   "source": [
    "ratings = ratings.fillna(0)\n",
    "ratings.sample()"
   ]
  },
  {
   "cell_type": "markdown",
   "id": "0_1D0JnmAAjL",
   "metadata": {
    "id": "0_1D0JnmAAjL"
   },
   "source": [
    "## Задание 2 (0.5 балла) Первая кластеризация"
   ]
  },
  {
   "cell_type": "markdown",
   "id": "ARuDv5grstBl",
   "metadata": {
    "id": "ARuDv5grstBl"
   },
   "source": [
    "Примените KMeans с 5ю кластерами, сохраните полученные лейблы"
   ]
  },
  {
   "cell_type": "code",
   "execution_count": 51,
   "id": "r2HxwIN5ssoO",
   "metadata": {
    "id": "r2HxwIN5ssoO"
   },
   "outputs": [
    {
     "name": "stderr",
     "output_type": "stream",
     "text": [
      "D:\\Anaconda\\Lib\\site-packages\\sklearn\\cluster\\_kmeans.py:1412: FutureWarning: The default value of `n_init` will change from 10 to 'auto' in 1.4. Set the value of `n_init` explicitly to suppress the warning\n",
      "  super()._check_params_vs_input(X, default_n_init=10)\n",
      "D:\\Anaconda\\Lib\\site-packages\\sklearn\\cluster\\_kmeans.py:1436: UserWarning: KMeans is known to have a memory leak on Windows with MKL, when there are less chunks than available threads. You can avoid it by setting the environment variable OMP_NUM_THREADS=4.\n",
      "  warnings.warn(\n"
     ]
    }
   ],
   "source": [
    "from sklearn.cluster import KMeans\n",
    "\n",
    "kmeans = KMeans(n_clusters=5, random_state=42)\n",
    "kmeans.fit(ratings)\n",
    "labels = kmeans.labels_"
   ]
  },
  {
   "cell_type": "markdown",
   "id": "aoWre3460SVi",
   "metadata": {
    "id": "aoWre3460SVi"
   },
   "source": [
    "Выведите размеры кластеров. Полезной ли получилась кластеризация? Почему KMeans может выдать такой результат?"
   ]
  },
  {
   "cell_type": "code",
   "execution_count": 52,
   "id": "zsGGw7ha1OhP",
   "metadata": {
    "id": "zsGGw7ha1OhP"
   },
   "outputs": [
    {
     "name": "stdout",
     "output_type": "stream",
     "text": [
      "0: 115\n",
      "1: 1\n",
      "2: 1\n",
      "3: 882\n",
      "4: 1\n"
     ]
    }
   ],
   "source": [
    "unique, count = np.unique(labels, return_counts=True)\n",
    "for i in range(len(unique)):\n",
    "    print(f'{unique[i]}: {count[i]}')"
   ]
  },
  {
   "cell_type": "markdown",
   "id": "lCcSpb2o11nZ",
   "metadata": {
    "id": "lCcSpb2o11nZ"
   },
   "source": [
    "**Ответ:** Кластеризация получилась неполезной, поскольку она содержит кластеры состоящие из 1 объекта, которые вероятнее всего просто являются выбросами."
   ]
  },
  {
   "cell_type": "markdown",
   "id": "HDLIxdWBAMql",
   "metadata": {
    "id": "HDLIxdWBAMql"
   },
   "source": [
    "## Задание 3 (0.5 балла) Объяснение результатов"
   ]
  },
  {
   "cell_type": "markdown",
   "id": "Z0LPwxlK6PX3",
   "metadata": {
    "id": "Z0LPwxlK6PX3"
   },
   "source": [
    "При кластеризации получилось $\\geq 1$ кластера размера 1. Выведите исполнителей, которые составляют такие кластеры. Среди них должна быть группа The Beatles."
   ]
  },
  {
   "cell_type": "code",
   "execution_count": 53,
   "id": "GpopP65iUXiJ",
   "metadata": {
    "id": "GpopP65iUXiJ"
   },
   "outputs": [
    {
     "data": {
      "text/html": [
       "<div>\n",
       "<style scoped>\n",
       "    .dataframe tbody tr th:only-of-type {\n",
       "        vertical-align: middle;\n",
       "    }\n",
       "\n",
       "    .dataframe tbody tr th {\n",
       "        vertical-align: top;\n",
       "    }\n",
       "\n",
       "    .dataframe thead th {\n",
       "        text-align: right;\n",
       "    }\n",
       "</style>\n",
       "<table border=\"1\" class=\"dataframe\">\n",
       "  <thead>\n",
       "    <tr style=\"text-align: right;\">\n",
       "      <th></th>\n",
       "      <th>0</th>\n",
       "      <th>1</th>\n",
       "      <th>2</th>\n",
       "      <th>3</th>\n",
       "      <th>4</th>\n",
       "      <th>5</th>\n",
       "      <th>6</th>\n",
       "      <th>7</th>\n",
       "      <th>8</th>\n",
       "      <th>9</th>\n",
       "      <th>...</th>\n",
       "      <th>4991</th>\n",
       "      <th>4992</th>\n",
       "      <th>4993</th>\n",
       "      <th>4994</th>\n",
       "      <th>4995</th>\n",
       "      <th>4996</th>\n",
       "      <th>4997</th>\n",
       "      <th>4998</th>\n",
       "      <th>4999</th>\n",
       "      <th>label</th>\n",
       "    </tr>\n",
       "  </thead>\n",
       "  <tbody>\n",
       "    <tr>\n",
       "      <th>the beatles</th>\n",
       "      <td>0.0</td>\n",
       "      <td>0.0</td>\n",
       "      <td>0.0</td>\n",
       "      <td>0.0</td>\n",
       "      <td>0.043529</td>\n",
       "      <td>0.0</td>\n",
       "      <td>0.0</td>\n",
       "      <td>0.0</td>\n",
       "      <td>0.093398</td>\n",
       "      <td>0.017621</td>\n",
       "      <td>...</td>\n",
       "      <td>0.0</td>\n",
       "      <td>0.121169</td>\n",
       "      <td>0.038168</td>\n",
       "      <td>0.007939</td>\n",
       "      <td>0.017884</td>\n",
       "      <td>0.0</td>\n",
       "      <td>0.076923</td>\n",
       "      <td>0.0</td>\n",
       "      <td>0.0</td>\n",
       "      <td>4</td>\n",
       "    </tr>\n",
       "    <tr>\n",
       "      <th>日dir en grey</th>\n",
       "      <td>0.0</td>\n",
       "      <td>0.0</td>\n",
       "      <td>0.0</td>\n",
       "      <td>0.0</td>\n",
       "      <td>0.000000</td>\n",
       "      <td>0.0</td>\n",
       "      <td>0.0</td>\n",
       "      <td>0.0</td>\n",
       "      <td>0.000000</td>\n",
       "      <td>0.000000</td>\n",
       "      <td>...</td>\n",
       "      <td>0.0</td>\n",
       "      <td>0.000000</td>\n",
       "      <td>0.000000</td>\n",
       "      <td>0.000000</td>\n",
       "      <td>0.000000</td>\n",
       "      <td>0.0</td>\n",
       "      <td>0.000000</td>\n",
       "      <td>0.0</td>\n",
       "      <td>0.0</td>\n",
       "      <td>1</td>\n",
       "    </tr>\n",
       "  </tbody>\n",
       "</table>\n",
       "<p>2 rows × 5001 columns</p>\n",
       "</div>"
      ],
      "text/plain": [
       "                0    1    2    3         4    5    6    7         8         9  \\\n",
       "the beatles   0.0  0.0  0.0  0.0  0.043529  0.0  0.0  0.0  0.093398  0.017621   \n",
       "日dir en grey  0.0  0.0  0.0  0.0  0.000000  0.0  0.0  0.0  0.000000  0.000000   \n",
       "\n",
       "              ...  4991      4992      4993      4994      4995  4996  \\\n",
       "the beatles   ...   0.0  0.121169  0.038168  0.007939  0.017884   0.0   \n",
       "日dir en grey  ...   0.0  0.000000  0.000000  0.000000  0.000000   0.0   \n",
       "\n",
       "                  4997  4998  4999  label  \n",
       "the beatles   0.076923   0.0   0.0      4  \n",
       "日dir en grey  0.000000   0.0   0.0      1  \n",
       "\n",
       "[2 rows x 5001 columns]"
      ]
     },
     "execution_count": 53,
     "metadata": {},
     "output_type": "execute_result"
    }
   ],
   "source": [
    "df = ratings.copy()\n",
    "df['label'] = labels\n",
    "df = df[df['label'].isin([1, 4])]\n",
    "df.head()"
   ]
  },
  {
   "cell_type": "markdown",
   "id": "brfvihta6yyG",
   "metadata": {
    "id": "brfvihta6yyG"
   },
   "source": [
    "Изучите данные, почему именно The Beatles выделяется?\n",
    "\n",
    "Подсказка: посмотрите на долю пользователей, которые слушают каждого исполнителя, среднюю долю прослушивания."
   ]
  },
  {
   "cell_type": "code",
   "execution_count": 54,
   "id": "xnK6DL-aUdPi",
   "metadata": {
    "id": "xnK6DL-aUdPi"
   },
   "outputs": [
    {
     "name": "stdout",
     "output_type": "stream",
     "text": [
      "0.01916514356333879\n",
      "0.0009932000000000003\n",
      "19.29635880320055\n"
     ]
    }
   ],
   "source": [
    "print(df.iloc[0].mean())\n",
    "print(ratings.mean().mean())\n",
    "\n",
    "print(df.iloc[0].mean() / ratings.mean().mean())"
   ]
  },
  {
   "cell_type": "markdown",
   "id": "QzYYFir870jG",
   "metadata": {
    "id": "QzYYFir870jG"
   },
   "source": [
    "**Ответ:** Битлс слушают в 20 раз чаще чем других исполнителей в среднем, поэтому в данной выборке эта группа отделилась в отдельный кластер, т.к. это выброс."
   ]
  },
  {
   "cell_type": "markdown",
   "id": "faW2kZFjAS9X",
   "metadata": {
    "id": "faW2kZFjAS9X"
   },
   "source": [
    "## Задание 4 (0.5 балла) Улучшение кластеризации"
   ]
  },
  {
   "cell_type": "markdown",
   "id": "Yzz3BbBw9KKt",
   "metadata": {
    "id": "Yzz3BbBw9KKt"
   },
   "source": [
    "Попытаемся избавиться от этой проблемы: нормализуйте данные при помощи `normalize`."
   ]
  },
  {
   "cell_type": "code",
   "execution_count": 58,
   "id": "2c8e4f06",
   "metadata": {},
   "outputs": [],
   "source": [
    "inds = ratings.index"
   ]
  },
  {
   "cell_type": "code",
   "execution_count": null,
   "id": "310281e0",
   "metadata": {},
   "outputs": [],
   "source": [
    "from sklearn.preprocessing import normalize\n",
    "\n",
    "ratings = pd.DataFrame(normalize(ratings))\n",
    "ratings['inds'] = inds"
   ]
  },
  {
   "cell_type": "code",
   "execution_count": 64,
   "id": "75c67724",
   "metadata": {},
   "outputs": [
    {
     "data": {
      "text/html": [
       "<div>\n",
       "<style scoped>\n",
       "    .dataframe tbody tr th:only-of-type {\n",
       "        vertical-align: middle;\n",
       "    }\n",
       "\n",
       "    .dataframe tbody tr th {\n",
       "        vertical-align: top;\n",
       "    }\n",
       "\n",
       "    .dataframe thead th {\n",
       "        text-align: right;\n",
       "    }\n",
       "</style>\n",
       "<table border=\"1\" class=\"dataframe\">\n",
       "  <thead>\n",
       "    <tr style=\"text-align: right;\">\n",
       "      <th></th>\n",
       "      <th>0</th>\n",
       "      <th>1</th>\n",
       "      <th>2</th>\n",
       "      <th>3</th>\n",
       "      <th>4</th>\n",
       "      <th>5</th>\n",
       "      <th>6</th>\n",
       "      <th>7</th>\n",
       "      <th>8</th>\n",
       "      <th>9</th>\n",
       "      <th>...</th>\n",
       "      <th>4990</th>\n",
       "      <th>4991</th>\n",
       "      <th>4992</th>\n",
       "      <th>4993</th>\n",
       "      <th>4994</th>\n",
       "      <th>4995</th>\n",
       "      <th>4996</th>\n",
       "      <th>4997</th>\n",
       "      <th>4998</th>\n",
       "      <th>4999</th>\n",
       "    </tr>\n",
       "    <tr>\n",
       "      <th>inds</th>\n",
       "      <th></th>\n",
       "      <th></th>\n",
       "      <th></th>\n",
       "      <th></th>\n",
       "      <th></th>\n",
       "      <th></th>\n",
       "      <th></th>\n",
       "      <th></th>\n",
       "      <th></th>\n",
       "      <th></th>\n",
       "      <th></th>\n",
       "      <th></th>\n",
       "      <th></th>\n",
       "      <th></th>\n",
       "      <th></th>\n",
       "      <th></th>\n",
       "      <th></th>\n",
       "      <th></th>\n",
       "      <th></th>\n",
       "      <th></th>\n",
       "      <th></th>\n",
       "    </tr>\n",
       "  </thead>\n",
       "  <tbody>\n",
       "    <tr>\n",
       "      <th>the beatles</th>\n",
       "      <td>0.000000</td>\n",
       "      <td>0.000000</td>\n",
       "      <td>0.000000</td>\n",
       "      <td>0.0</td>\n",
       "      <td>0.012054</td>\n",
       "      <td>0.000000</td>\n",
       "      <td>0.0</td>\n",
       "      <td>0.0</td>\n",
       "      <td>0.025864</td>\n",
       "      <td>0.004880</td>\n",
       "      <td>...</td>\n",
       "      <td>0.000000</td>\n",
       "      <td>0.0</td>\n",
       "      <td>0.033554</td>\n",
       "      <td>0.010569</td>\n",
       "      <td>0.002199</td>\n",
       "      <td>0.004952</td>\n",
       "      <td>0.0</td>\n",
       "      <td>0.021302</td>\n",
       "      <td>0.0</td>\n",
       "      <td>0.000000</td>\n",
       "    </tr>\n",
       "    <tr>\n",
       "      <th>radiohead</th>\n",
       "      <td>0.009348</td>\n",
       "      <td>0.084688</td>\n",
       "      <td>0.000000</td>\n",
       "      <td>0.0</td>\n",
       "      <td>0.039505</td>\n",
       "      <td>0.002894</td>\n",
       "      <td>0.0</td>\n",
       "      <td>0.0</td>\n",
       "      <td>0.000000</td>\n",
       "      <td>0.008771</td>\n",
       "      <td>...</td>\n",
       "      <td>0.008120</td>\n",
       "      <td>0.0</td>\n",
       "      <td>0.000000</td>\n",
       "      <td>0.000000</td>\n",
       "      <td>0.005122</td>\n",
       "      <td>0.000000</td>\n",
       "      <td>0.0</td>\n",
       "      <td>0.000000</td>\n",
       "      <td>0.0</td>\n",
       "      <td>0.000000</td>\n",
       "    </tr>\n",
       "    <tr>\n",
       "      <th>deathcab for cutie</th>\n",
       "      <td>0.000000</td>\n",
       "      <td>0.017278</td>\n",
       "      <td>0.020144</td>\n",
       "      <td>0.0</td>\n",
       "      <td>0.024333</td>\n",
       "      <td>0.000000</td>\n",
       "      <td>0.0</td>\n",
       "      <td>0.0</td>\n",
       "      <td>0.000000</td>\n",
       "      <td>0.009391</td>\n",
       "      <td>...</td>\n",
       "      <td>0.085361</td>\n",
       "      <td>0.0</td>\n",
       "      <td>0.000000</td>\n",
       "      <td>0.000000</td>\n",
       "      <td>0.000000</td>\n",
       "      <td>0.000000</td>\n",
       "      <td>0.0</td>\n",
       "      <td>0.000000</td>\n",
       "      <td>0.0</td>\n",
       "      <td>0.019622</td>\n",
       "    </tr>\n",
       "    <tr>\n",
       "      <th>coldplay</th>\n",
       "      <td>0.000000</td>\n",
       "      <td>0.000000</td>\n",
       "      <td>0.000000</td>\n",
       "      <td>0.0</td>\n",
       "      <td>0.011129</td>\n",
       "      <td>0.000000</td>\n",
       "      <td>0.0</td>\n",
       "      <td>0.0</td>\n",
       "      <td>0.000000</td>\n",
       "      <td>0.000000</td>\n",
       "      <td>...</td>\n",
       "      <td>0.144628</td>\n",
       "      <td>0.0</td>\n",
       "      <td>0.000000</td>\n",
       "      <td>0.000000</td>\n",
       "      <td>0.000000</td>\n",
       "      <td>0.000000</td>\n",
       "      <td>0.0</td>\n",
       "      <td>0.000000</td>\n",
       "      <td>0.0</td>\n",
       "      <td>0.000000</td>\n",
       "    </tr>\n",
       "    <tr>\n",
       "      <th>modest mouse</th>\n",
       "      <td>0.000000</td>\n",
       "      <td>0.000000</td>\n",
       "      <td>0.000000</td>\n",
       "      <td>0.0</td>\n",
       "      <td>0.010260</td>\n",
       "      <td>0.000000</td>\n",
       "      <td>0.0</td>\n",
       "      <td>0.0</td>\n",
       "      <td>0.000000</td>\n",
       "      <td>0.019597</td>\n",
       "      <td>...</td>\n",
       "      <td>0.000000</td>\n",
       "      <td>0.0</td>\n",
       "      <td>0.000000</td>\n",
       "      <td>0.000000</td>\n",
       "      <td>0.000000</td>\n",
       "      <td>0.000000</td>\n",
       "      <td>0.0</td>\n",
       "      <td>0.000000</td>\n",
       "      <td>0.0</td>\n",
       "      <td>0.000000</td>\n",
       "    </tr>\n",
       "    <tr>\n",
       "      <th>...</th>\n",
       "      <td>...</td>\n",
       "      <td>...</td>\n",
       "      <td>...</td>\n",
       "      <td>...</td>\n",
       "      <td>...</td>\n",
       "      <td>...</td>\n",
       "      <td>...</td>\n",
       "      <td>...</td>\n",
       "      <td>...</td>\n",
       "      <td>...</td>\n",
       "      <td>...</td>\n",
       "      <td>...</td>\n",
       "      <td>...</td>\n",
       "      <td>...</td>\n",
       "      <td>...</td>\n",
       "      <td>...</td>\n",
       "      <td>...</td>\n",
       "      <td>...</td>\n",
       "      <td>...</td>\n",
       "      <td>...</td>\n",
       "      <td>...</td>\n",
       "    </tr>\n",
       "    <tr>\n",
       "      <th>michal w. smith</th>\n",
       "      <td>0.000000</td>\n",
       "      <td>0.000000</td>\n",
       "      <td>0.000000</td>\n",
       "      <td>0.0</td>\n",
       "      <td>0.000000</td>\n",
       "      <td>0.000000</td>\n",
       "      <td>0.0</td>\n",
       "      <td>0.0</td>\n",
       "      <td>0.000000</td>\n",
       "      <td>0.000000</td>\n",
       "      <td>...</td>\n",
       "      <td>0.000000</td>\n",
       "      <td>0.0</td>\n",
       "      <td>0.000000</td>\n",
       "      <td>0.000000</td>\n",
       "      <td>0.000000</td>\n",
       "      <td>0.000000</td>\n",
       "      <td>0.0</td>\n",
       "      <td>0.000000</td>\n",
       "      <td>0.0</td>\n",
       "      <td>0.000000</td>\n",
       "    </tr>\n",
       "    <tr>\n",
       "      <th>群星</th>\n",
       "      <td>0.000000</td>\n",
       "      <td>0.000000</td>\n",
       "      <td>0.000000</td>\n",
       "      <td>0.0</td>\n",
       "      <td>0.000000</td>\n",
       "      <td>0.000000</td>\n",
       "      <td>0.0</td>\n",
       "      <td>0.0</td>\n",
       "      <td>0.000000</td>\n",
       "      <td>0.000000</td>\n",
       "      <td>...</td>\n",
       "      <td>0.000000</td>\n",
       "      <td>0.0</td>\n",
       "      <td>0.000000</td>\n",
       "      <td>0.000000</td>\n",
       "      <td>0.000000</td>\n",
       "      <td>0.000000</td>\n",
       "      <td>0.0</td>\n",
       "      <td>0.000000</td>\n",
       "      <td>0.0</td>\n",
       "      <td>0.000000</td>\n",
       "    </tr>\n",
       "    <tr>\n",
       "      <th>agalloch</th>\n",
       "      <td>0.000000</td>\n",
       "      <td>0.000000</td>\n",
       "      <td>0.000000</td>\n",
       "      <td>0.0</td>\n",
       "      <td>0.000000</td>\n",
       "      <td>0.000000</td>\n",
       "      <td>0.0</td>\n",
       "      <td>0.0</td>\n",
       "      <td>0.000000</td>\n",
       "      <td>0.000000</td>\n",
       "      <td>...</td>\n",
       "      <td>0.000000</td>\n",
       "      <td>0.0</td>\n",
       "      <td>0.000000</td>\n",
       "      <td>0.000000</td>\n",
       "      <td>0.000000</td>\n",
       "      <td>0.000000</td>\n",
       "      <td>0.0</td>\n",
       "      <td>0.000000</td>\n",
       "      <td>0.0</td>\n",
       "      <td>0.000000</td>\n",
       "    </tr>\n",
       "    <tr>\n",
       "      <th>meshuggah</th>\n",
       "      <td>0.000000</td>\n",
       "      <td>0.000000</td>\n",
       "      <td>0.000000</td>\n",
       "      <td>0.0</td>\n",
       "      <td>0.000000</td>\n",
       "      <td>0.000000</td>\n",
       "      <td>0.0</td>\n",
       "      <td>0.0</td>\n",
       "      <td>0.000000</td>\n",
       "      <td>0.000000</td>\n",
       "      <td>...</td>\n",
       "      <td>0.000000</td>\n",
       "      <td>0.0</td>\n",
       "      <td>0.000000</td>\n",
       "      <td>0.000000</td>\n",
       "      <td>0.000000</td>\n",
       "      <td>0.000000</td>\n",
       "      <td>0.0</td>\n",
       "      <td>0.000000</td>\n",
       "      <td>0.0</td>\n",
       "      <td>0.000000</td>\n",
       "    </tr>\n",
       "    <tr>\n",
       "      <th>yellowcard</th>\n",
       "      <td>0.000000</td>\n",
       "      <td>0.000000</td>\n",
       "      <td>0.000000</td>\n",
       "      <td>0.0</td>\n",
       "      <td>0.000000</td>\n",
       "      <td>0.000000</td>\n",
       "      <td>0.0</td>\n",
       "      <td>0.0</td>\n",
       "      <td>0.000000</td>\n",
       "      <td>0.000000</td>\n",
       "      <td>...</td>\n",
       "      <td>0.000000</td>\n",
       "      <td>0.0</td>\n",
       "      <td>0.000000</td>\n",
       "      <td>0.000000</td>\n",
       "      <td>0.000000</td>\n",
       "      <td>0.000000</td>\n",
       "      <td>0.0</td>\n",
       "      <td>0.000000</td>\n",
       "      <td>0.0</td>\n",
       "      <td>0.000000</td>\n",
       "    </tr>\n",
       "  </tbody>\n",
       "</table>\n",
       "<p>1000 rows × 5000 columns</p>\n",
       "</div>"
      ],
      "text/plain": [
       "                        0         1         2     3         4         5     \\\n",
       "inds                                                                         \n",
       "the beatles         0.000000  0.000000  0.000000   0.0  0.012054  0.000000   \n",
       "radiohead           0.009348  0.084688  0.000000   0.0  0.039505  0.002894   \n",
       "deathcab for cutie  0.000000  0.017278  0.020144   0.0  0.024333  0.000000   \n",
       "coldplay            0.000000  0.000000  0.000000   0.0  0.011129  0.000000   \n",
       "modest mouse        0.000000  0.000000  0.000000   0.0  0.010260  0.000000   \n",
       "...                      ...       ...       ...   ...       ...       ...   \n",
       "michal w. smith     0.000000  0.000000  0.000000   0.0  0.000000  0.000000   \n",
       "群星                  0.000000  0.000000  0.000000   0.0  0.000000  0.000000   \n",
       "agalloch            0.000000  0.000000  0.000000   0.0  0.000000  0.000000   \n",
       "meshuggah           0.000000  0.000000  0.000000   0.0  0.000000  0.000000   \n",
       "yellowcard          0.000000  0.000000  0.000000   0.0  0.000000  0.000000   \n",
       "\n",
       "                    6     7         8         9     ...      4990  4991  \\\n",
       "inds                                                ...                   \n",
       "the beatles          0.0   0.0  0.025864  0.004880  ...  0.000000   0.0   \n",
       "radiohead            0.0   0.0  0.000000  0.008771  ...  0.008120   0.0   \n",
       "deathcab for cutie   0.0   0.0  0.000000  0.009391  ...  0.085361   0.0   \n",
       "coldplay             0.0   0.0  0.000000  0.000000  ...  0.144628   0.0   \n",
       "modest mouse         0.0   0.0  0.000000  0.019597  ...  0.000000   0.0   \n",
       "...                  ...   ...       ...       ...  ...       ...   ...   \n",
       "michal w. smith      0.0   0.0  0.000000  0.000000  ...  0.000000   0.0   \n",
       "群星                   0.0   0.0  0.000000  0.000000  ...  0.000000   0.0   \n",
       "agalloch             0.0   0.0  0.000000  0.000000  ...  0.000000   0.0   \n",
       "meshuggah            0.0   0.0  0.000000  0.000000  ...  0.000000   0.0   \n",
       "yellowcard           0.0   0.0  0.000000  0.000000  ...  0.000000   0.0   \n",
       "\n",
       "                        4992      4993      4994      4995  4996      4997  \\\n",
       "inds                                                                         \n",
       "the beatles         0.033554  0.010569  0.002199  0.004952   0.0  0.021302   \n",
       "radiohead           0.000000  0.000000  0.005122  0.000000   0.0  0.000000   \n",
       "deathcab for cutie  0.000000  0.000000  0.000000  0.000000   0.0  0.000000   \n",
       "coldplay            0.000000  0.000000  0.000000  0.000000   0.0  0.000000   \n",
       "modest mouse        0.000000  0.000000  0.000000  0.000000   0.0  0.000000   \n",
       "...                      ...       ...       ...       ...   ...       ...   \n",
       "michal w. smith     0.000000  0.000000  0.000000  0.000000   0.0  0.000000   \n",
       "群星                  0.000000  0.000000  0.000000  0.000000   0.0  0.000000   \n",
       "agalloch            0.000000  0.000000  0.000000  0.000000   0.0  0.000000   \n",
       "meshuggah           0.000000  0.000000  0.000000  0.000000   0.0  0.000000   \n",
       "yellowcard          0.000000  0.000000  0.000000  0.000000   0.0  0.000000   \n",
       "\n",
       "                    4998      4999  \n",
       "inds                                \n",
       "the beatles          0.0  0.000000  \n",
       "radiohead            0.0  0.000000  \n",
       "deathcab for cutie   0.0  0.019622  \n",
       "coldplay             0.0  0.000000  \n",
       "modest mouse         0.0  0.000000  \n",
       "...                  ...       ...  \n",
       "michal w. smith      0.0  0.000000  \n",
       "群星                   0.0  0.000000  \n",
       "agalloch             0.0  0.000000  \n",
       "meshuggah            0.0  0.000000  \n",
       "yellowcard           0.0  0.000000  \n",
       "\n",
       "[1000 rows x 5000 columns]"
      ]
     },
     "execution_count": 64,
     "metadata": {},
     "output_type": "execute_result"
    }
   ],
   "source": [
    "ratings.set_index('inds', inplace=True)\n",
    "ratings"
   ]
  },
  {
   "cell_type": "markdown",
   "id": "vFlwI4ec-SuY",
   "metadata": {
    "id": "vFlwI4ec-SuY"
   },
   "source": [
    "Примените KMeans с 5ю кластерами на преобразованной матрице, посмотрите на их размеры. Стало ли лучше? Может ли кластеризация быть полезной теперь?"
   ]
  },
  {
   "cell_type": "code",
   "execution_count": 65,
   "id": "6ic3WvMdUfwb",
   "metadata": {
    "id": "6ic3WvMdUfwb"
   },
   "outputs": [
    {
     "name": "stderr",
     "output_type": "stream",
     "text": [
      "D:\\Anaconda\\Lib\\site-packages\\sklearn\\cluster\\_kmeans.py:1412: FutureWarning: The default value of `n_init` will change from 10 to 'auto' in 1.4. Set the value of `n_init` explicitly to suppress the warning\n",
      "  super()._check_params_vs_input(X, default_n_init=10)\n",
      "D:\\Anaconda\\Lib\\site-packages\\sklearn\\cluster\\_kmeans.py:1436: UserWarning: KMeans is known to have a memory leak on Windows with MKL, when there are less chunks than available threads. You can avoid it by setting the environment variable OMP_NUM_THREADS=4.\n",
      "  warnings.warn(\n"
     ]
    },
    {
     "name": "stdout",
     "output_type": "stream",
     "text": [
      "0: 79\n",
      "1: 162\n",
      "2: 133\n",
      "3: 140\n",
      "4: 486\n"
     ]
    }
   ],
   "source": [
    "kmeans = KMeans(n_clusters=5, random_state=42)\n",
    "kmeans.fit(ratings)\n",
    "labels = kmeans.labels_\n",
    "unique, count = np.unique(labels, return_counts=True)\n",
    "for i in range(len(unique)):\n",
    "    print(f'{unique[i]}: {count[i]}')"
   ]
  },
  {
   "cell_type": "markdown",
   "id": "Xj9fyDKd-bzk",
   "metadata": {
    "id": "Xj9fyDKd-bzk"
   },
   "source": [
    "**Ответ** После нормализации кластеризация стала лучше, поскольку уже можно говорить о балансе классов, нет классов где очень мало объектов"
   ]
  },
  {
   "cell_type": "markdown",
   "id": "zFsXACPxAhyv",
   "metadata": {
    "id": "zFsXACPxAhyv"
   },
   "source": [
    "## Задание 5 (1 балл) Центроиды"
   ]
  },
  {
   "cell_type": "markdown",
   "id": "qG5cISdzu7Jh",
   "metadata": {
    "id": "qG5cISdzu7Jh"
   },
   "source": [
    "Выведите для каждого кластера названия топ-10 исполнителей, ближайших к центроиду по косинусной мере. Проинтерпретируйте результат. Что можно сказать о смысле кластеров?"
   ]
  },
  {
   "cell_type": "code",
   "execution_count": 76,
   "id": "Q3gI8OlKuCG6",
   "metadata": {
    "id": "Q3gI8OlKuCG6"
   },
   "outputs": [
    {
     "name": "stdout",
     "output_type": "stream",
     "text": [
      "Кластер 0:\n",
      "nas; jay-z; kanye west; lupe the gorilla; a tribe called quest; the roots featuring d'angelo; gangstarr; little brother; lil' wayne; murs and 9th wonder\n",
      "Кластер 1:\n",
      "fall out boy; the all-americian rejects; paramore; kelly clarkson; john mayer; the fray; maroon5; dashboard confesssional; somethings corporate; coldplay\n",
      "Кластер 2:\n",
      "brand new; blink-182; alkaline trio; against me!; underoath; descendents; new found glory; less than jake; thrice; chiodos\n",
      "Кластер 3:\n",
      "the beatles; the rolling stones; dylan. bob; who; led zeppelin.; miles davis.; simon and garfunkel; young, neil; pink fluid; velvet underground\n",
      "Кластер 4:\n",
      "radiohead; the arcade fire; the shins; sufjan stevens; belle and sebastian; broken social scene; the pixies; animal collective; modest mouse; spoon\n"
     ]
    }
   ],
   "source": [
    "from scipy.spatial.distance import cosine\n",
    "\n",
    "centroids = kmeans.cluster_centers_\n",
    "\n",
    "cosine_distance = np.zeros((len(centroids), len(ratings)))\n",
    "for i, centroid in enumerate(centroids):\n",
    "    for j, artist_vector in enumerate(ratings.values):\n",
    "        cosine_distance[i, j] = cosine(centroid, artist_vector)\n",
    "\n",
    "artists = []\n",
    "for i in range(len(centroids)):\n",
    "    artists.append(ratings.index[index] for index in np.argsort(cosine_distance[i])[:10])\n",
    "\n",
    "for i, top_artists in enumerate(artists):\n",
    "    print(f\"Кластер {i}:\")\n",
    "    print('; '.join(top_artists))"
   ]
  },
  {
   "cell_type": "markdown",
   "id": "GwioYtvAxqxT",
   "metadata": {
    "id": "GwioYtvAxqxT"
   },
   "source": [
    "**Ответ:** # Можно заметить, что кластеры разделены по жанрам, то есть в каждом из кластеров представлены самые популярные исполнители того или иного жанра. (0 - реп, 1 - альтернатива, 2 - панк, 3 - рок, 4 - инди)"
   ]
  },
  {
   "cell_type": "markdown",
   "id": "TkBh9Dk2C_el",
   "metadata": {
    "id": "TkBh9Dk2C_el"
   },
   "source": [
    "## Задание 6 (1 балл) Визуализация"
   ]
  },
  {
   "cell_type": "markdown",
   "id": "GzP-OoAZDony",
   "metadata": {
    "id": "GzP-OoAZDony"
   },
   "source": [
    "Хотелось бы как-то визуализировать полученную кластеризацию. Постройте точечные графики `plt.scatter` для нескольких пар признаков исполнителей, покрасив точки в цвета кластеров. Почему визуализации получились такими? Хорошо ли они отражают разделение на кластеры? Почему?"
   ]
  },
  {
   "cell_type": "code",
   "execution_count": 83,
   "id": "HyVqnEQ3DWgm",
   "metadata": {
    "id": "HyVqnEQ3DWgm"
   },
   "outputs": [
    {
     "data": {
      "image/png": "[encoded data removed]",
      "text/plain": [
       "<Figure size 1200x400 with 3 Axes>"
      ]
     },
     "metadata": {},
     "output_type": "display_data"
    }
   ],
   "source": [
    "import matplotlib.pyplot as plt\n",
    "\n",
    "feature_pairs = [(0, 1), (1, 2), (0, 2)]\n",
    "plt.figure(figsize=(12, 4))\n",
    "\n",
    "for i, (feature1_index, feature2_index) in enumerate(feature_pairs, 1):\n",
    "    plt.subplot(1, 3, i)\n",
    "    for label in range(len(np.unique(labels))):\n",
    "        plt.scatter(ratings.loc[labels == label, feature1_index], ratings.loc[labels == label, feature2_index], label=f'Кластер {label+1}')\n",
    "    plt.xlabel(ratings.columns[feature1_index])\n",
    "    plt.ylabel(ratings.columns[feature2_index])\n",
    "    plt.title(f'Признаки {ratings.columns[feature1_index]}, {ratings.columns[feature2_index]}')\n",
    "    plt.legend()\n",
    "    plt.grid(True)\n",
    "\n",
    "plt.tight_layout()\n",
    "plt.show()"
   ]
  },
  {
   "cell_type": "markdown",
   "id": "O5t7YabAFPe4",
   "metadata": {
    "id": "O5t7YabAFPe4"
   },
   "source": [
    "**Ответ:** Данная визуализация абсолютно ничего не показывает, поскольку мы просто смотрим зависимость по 2 случайным слушателям, а нам бы хотелось визуализировать всех. Кластеры на данных графиках не прослеживаются."
   ]
  },
  {
   "cell_type": "markdown",
   "id": "ZuPjFHu4GuHK",
   "metadata": {
    "id": "ZuPjFHu4GuHK"
   },
   "source": [
    "Для визуализации данных высокой размерности существует метод t-SNE (стохастическое вложение соседей с t-распределением). Данный метод является нелинейным методом снижения размерности: каждый объект высокой размерности будет моделироваться объектов более низкой (например, 2) размерности таким образом, чтобы похожие объекты моделировались близкими, непохожие - далекими с большой вероятностью.\n",
    "\n",
    "Примените `TSNE` из библиотеки `sklearn` и визуализируйте полученные объекты, покрасив их в цвета их кластеров"
   ]
  },
  {
   "cell_type": "code",
   "execution_count": 86,
   "id": "CVNPXKvcH7uV",
   "metadata": {
    "id": "CVNPXKvcH7uV"
   },
   "outputs": [
    {
     "data": {
      "image/png": "[encoded data removed]",
      "text/plain": [
       "<Figure size 1200x400 with 1 Axes>"
      ]
     },
     "metadata": {},
     "output_type": "display_data"
    }
   ],
   "source": [
    "import matplotlib.pyplot as plt\n",
    "from sklearn.manifold import TSNE\n",
    "\n",
    "tsne = TSNE(n_components=2, random_state=42)\n",
    "data = tsne.fit_transform(ratings)\n",
    "\n",
    "plt.figure(figsize=(12, 4))\n",
    "for label in range(len(np.unique(labels))):\n",
    "    plt.scatter(data[labels == label, 0], tsne_data[labels == label, 1], label=f'Кластер {label+1}')\n",
    "    \n",
    "plt.legend()\n",
    "plt.grid(True)\n",
    "plt.show()"
   ]
  },
  {
   "cell_type": "markdown",
   "id": "Mi1frYgFJCrT",
   "metadata": {
    "id": "Mi1frYgFJCrT"
   },
   "source": [
    "## Задание 7 (1 балл) Подбор гиперпараметров"
   ]
  },
  {
   "cell_type": "markdown",
   "id": "7UKDZt-bAokD",
   "metadata": {
    "id": "7UKDZt-bAokD"
   },
   "source": [
    "Подберите оптимальное количество кластеров (максимум 100 кластеров) с использованием индекса Силуэта. Зафиксируйте `random_state=42`"
   ]
  },
  {
   "cell_type": "code",
   "execution_count": 90,
   "id": "S4CxV_XJAy0A",
   "metadata": {
    "id": "S4CxV_XJAy0A"
   },
   "outputs": [],
   "source": [
    "from sklearn.metrics import silhouette_score\n",
    "scores = []\n",
    "for n_clusters in range(2, 101):\n",
    "    kmeans = KMeans(n_clusters=n_clusters, random_state=42)\n",
    "    kmeans.fit(ratings)\n",
    "    labels = kmeans.labels_\n",
    "    score = silhouette_score(ratings, labels)\n",
    "    scores.append(score)"
   ]
  },
  {
   "cell_type": "code",
   "execution_count": 93,
   "id": "9abe9289",
   "metadata": {},
   "outputs": [
    {
     "data": {
      "text/plain": [
       "84"
      ]
     },
     "execution_count": 93,
     "metadata": {},
     "output_type": "execute_result"
    }
   ],
   "source": [
    "ans = scores.index(max(scores)) + 2\n",
    "ans"
   ]
  },
  {
   "cell_type": "markdown",
   "id": "J81KdOFtJORV",
   "metadata": {
    "id": "J81KdOFtJORV"
   },
   "source": [
    "Выведите исполнителей, ближайших с центроидам (аналогично заданию 5). Как соотносятся результаты? Остался ли смысл кластеров прежним? Расскажите про смысл 1-2 интересных кластеров, если он изменился и кластеров слишком много, чтобы рассказать про все."
   ]
  },
  {
   "cell_type": "code",
   "execution_count": 96,
   "id": "de19215c",
   "metadata": {},
   "outputs": [],
   "source": [
    "kmeans = KMeans(84, random_state=42)\n",
    "kmeans.fit(ratings)\n",
    "labels = kmeans.labels_"
   ]
  },
  {
   "cell_type": "code",
   "execution_count": 97,
   "id": "HMY-058kBqO0",
   "metadata": {
    "id": "HMY-058kBqO0"
   },
   "outputs": [
    {
     "name": "stdout",
     "output_type": "stream",
     "text": [
      "Кластер 0:\n",
      "raekwon; wu-tang clan; gza/genius; ghostface killah; mobb deep; cypress hill; nas; gangstarr; jay-z; a tribe called quest\n",
      "Кластер 1:\n",
      "she wants revenge; shiny toy guns; the bravery; pink*; mika; three days grase; placebo; frou frou; digitalism; the dandy warhols\n",
      "Кластер 2:\n",
      "vampire weekend; mgmt; girl talk; the go! team; the blow; dr. dog; bishop allen; the dodos; of montreal; the shins\n",
      "Кластер 3:\n",
      "the flaming lips; the apples in stereo; elvis costello and the attractions; grandaddy; the notwist; sparklehorse; orbital; elvis costello; sigur rós; m. ward\n",
      "Кластер 4:\n",
      "the smashing pumpkins; vnv nation; the blood brothers; moby; the pillows; niИ; system of a down; rammstein; radiohead; air\n",
      "Кластер 5:\n",
      "all time low; mayday parade; forever the sickest kids; fall out boy; cute is what we aim for; the academy is...; cobra starship; paramore; the spill canvas; boys like girls\n",
      "Кластер 6:\n",
      "kanye west; jay-z; lupe the gorilla; lil' wayne; t.i.; ludacris; t-pain; drake; chris brown; nas\n",
      "Кластер 7:\n",
      "iron maiden; megadeth; judas priest; black sabbath; slayer; metallica; ozzy osbourne; pantera; queensrÿche; acdc\n",
      "Кластер 8:\n",
      "michelle branch; kelly clarkson; indigo girlz; rent: original broadway cast; aimee mann; tim rice && andrew lloyd webb; jem; train; 보아; ingrid michaelson\n",
      "Кластер 9:\n",
      "boards of canada; squarepusher.; autechre; aphex twin; four tet; amon tobin; prefuse 73; flying lotus; tortoise; múm\n",
      "Кластер 10:\n",
      "oy division; the smiths; siouxsie and the banshees; echo and the bunnymen; bauhaus; new order; morrissey; gang of four; the clash; cocteau twins\n",
      "Кластер 11:\n",
      "the used; afi; my chemicall romance; him; |avenged sevenfold; from first to last; atreyu; bullet for my valintine; 30 seconds to mars; fall out boy\n",
      "Кластер 12:\n",
      "underoath; chiodos; norma jean; as i lay dying; scary kids scaring kids; saosin; from autumn to ashes; a day to remember; atreyu; every time i die\n",
      "Кластер 13:\n",
      "jimmy buffett; rush; direr straits; the bee gees; tom petty; journey; creedence clearwater rival; r.e.m.; van hallen; queen\n",
      "Кластер 14:\n",
      "cut copy; the rapture; digitalism; lcd soundsystem; crystal castles; hot chip; the knife; chromeo; junior boys; justice\n",
      "Кластер 15:\n",
      "seether; breaking benjamin; three days grase; staind; nickelback; 3 doors down; 30 seconds to mars; shinedown; flyleaf; finger eleven\n",
      "Кластер 16:\n",
      "carrie underwood; taylor swift; rascal flatts; daughtry; dixie chicks; miley cyrus; bon jovi; the original cast; snow potrol; jonas brothers\n",
      "Кластер 17:\n",
      "genesis; the police; yes; porcupine tree; マイケル・ジャクソン; neil diamond; steve miller band; the jimi hendrix experience; rush; peter gabriël\n",
      "Кластер 18:\n",
      "regina spektor; rilo kiley; jenny lewis with the watson twins; the hush sound; phantom planet; rufus wainwright; mika; fiest; kimya dawson; ani difranco\n",
      "Кластер 19:\n",
      "the beatles; led zeppelin.; who; pink fluid; queen; simon and garfunkel; john lenon; divid bowie; the rolling stones; aerosmith\n",
      "Кластер 20:\n",
      "modest mouse; neutral milk hotel; the pixies; wolf parade; the hold steady; sublime; mc chris; the arcade fire; radiohead; belle and sebastian\n",
      "Кластер 21:\n",
      "converge; the dillinger escape plan; between the buried and me; mastodon; lin que; dredg; comeback kid; at the drive-in; refused; the mars volta\n",
      "Кластер 22:\n",
      "big d and the kids table; streetlight manifesto; catch 22; less than jake; the mighty mighty bosstones; bomb the music industry!; reel big fish; the aquabats!; anti-flag; screeching weasel\n",
      "Кластер 23:\n",
      "dylan. bob; the rolling stones; young, neil; the byrds; bruce springsteen; johnny clash; white stripes; van morrison; creedence clearwater rival; paul simon\n",
      "Кластер 24:\n",
      "me first and the gimme gimmes; nofx; goldfinger; the offspring; bowling for soup; mxpx; the bloodhound gang; she & him; clutch; less than jake\n",
      "Кластер 25:\n",
      "franz ferdinand; kaiser thiefs; the arctic monkeys; the kooks; the fratellis; hothot heat; the strokes; the killers; the libertines; lily allen\n",
      "Кластер 26:\n",
      "newsboys; jars of clay; switchfoot; david crowder*band; michal w. smith; chris tomlin; skillet; relient k; mutemath; five iron frenzy\n",
      "Кластер 27:\n",
      "john mayer; matt nathanson; jason mraz; maroon5; augustana; gavin degraw; lifehouse; the fray; sara bareilles; joshua radin\n",
      "Кластер 28:\n",
      "scott jill; erykah badu; adele; sade; mary j. blige; ludacris; mos def; matvin gaye; aaliyah; mariah carey\n",
      "Кластер 29:\n",
      "ben folds; ben folds five; berenaked ladies; counting crows; everclear; ben kweller; they might be giants [tmbg]; flight of the conchords.; the quitters; fountains of wayne\n",
      "Кластер 30:\n",
      "deerhunter; no age; liars; slowdive; lightning bolt; daniel johnston; the black lips; asobi seksu; the stooges; kate bush\n",
      "Кластер 31:\n",
      "pavement; sebadoh; sonic youth; dinosaur jr.; built to spill; my bloody valentine; sleater-kinney; les savy fav; guided by voices; silver jews\n",
      "Кластер 32:\n",
      "a tribe called quest; de la soul; the roots featuring d'angelo; gangstarr; nas; talib kweli; mos def; j dilla; murs and 9th wonder; del the funky homosapien\n",
      "Кластер 33:\n",
      "rob zombie; marilyn manson; mudvayne; slipknot; ministry; skinny puppy; the cramps; rasputina; koЯn; akira yamaoka\n",
      "Кластер 34:\n",
      "opeth; death; amon amarth; in flames; tool; dëthkløk; meshuggah; shpongle; dimmu borgir; cob\n",
      "Кластер 35:\n",
      "nightmares on wax?; thievery corporation; tosca; the cinematic orchestra; zero 7; groove armada; bonobo; aïr; tйlйpopmusik; morcheeba\n",
      "Кластер 36:\n",
      "dropkick murphys; rancid; operation ivy; flogging molly; tiger army; the bouncing souls; bad religion; social distortion; the pogues; godsmack\n",
      "Кластер 37:\n",
      "deathcab for cutie; the shins; bright eyes; the postal service; coldplay; jimmy eat world; nada surf; bloc party; motion city soundtrack; guster\n",
      "Кластер 38:\n",
      "danzig; patton oswalt; nick cave and the bad seeds; cooper,  alice; the misfits; mötley crüe; bauhaus; the cramps; the smiths; hank williams\n",
      "Кластер 39:\n",
      "cartel; somethings corporate; the all-americian rejects; dashboard confesssional; the starting line; anberlin; the red jumpsuit apparatus; jack’s mannequin; metro station; good charlotte\n",
      "Кластер 40:\n",
      "paul van dyk; tiësto; paul oakenfold; atb; armin van buuren; bt; basement jaxx; the crystal method; fatboy slim; 植松伸夫\n",
      "Кластер 41:\n",
      "destinys child; janet jackson.; aaliyah; alicia keys; mariah carey; mary j. blige; the pussycat dolls; beyoncé; fergie; missy elliott\n",
      "Кластер 42:\n",
      "duke ellington; louıs armstrong; ella fitzgerald; Ｂille holiday; nina simone; ray charles; morricone; franklin aretha; the band; nat king cole\n",
      "Кластер 43:\n",
      "erasure; tears forfears; depeche Мode; pet shop boys; kylie minogue; duran duran; oingo boingo; the b-52s; kraftwerk; new order\n",
      "Кластер 44:\n",
      "thelonious monk; john coltrane; mingus charles; charlie parker; miles davis.; herbie hancock; the allman brothers band; bill evans.; the jimi hendrix experience; devo\n",
      "Кластер 45:\n",
      "alice in chains; soundgarden; stone temple pilots; nirvana*; bush; pearl jam; blind melon; perfect circle; faith no more; civilian\n",
      "Кластер 46:\n",
      "lady gaga; brritney spears; pink*; tatu; rihanna & jay-z; veronicas; cascada; timbaland; ‌linkin park; madonna\n",
      "Кластер 47:\n",
      "the lawrence arms; jawbreaker; dillinger four; against me!; the glaslight anthem; hot water music; descendents; propagandhi; the weakerthans; lifetime\n",
      "Кластер 48:\n",
      "rachael yamagata; james blunt; rice, demien; evril lavigne; nelly furtado; the goo goo dools; no doubt; various korean artists; ingrid michaelson; kelly clarkson\n",
      "Кластер 49:\n",
      "lamb; massive attack; portishead; tricky & dj muggs & grease; morcheeba; sneaker pimps; tйlйpopmusik; delerium; underworld; soul coughing\n",
      "Кластер 50:\n",
      "Вольфганг Амадей Моцарт; ВИВАЛЬДИ; Бах Иоганн Себастьян; ШОПЕН; ルートヴィヒ・ヴァン・ベートーヴェン; john williams (g); billy joel; sam cooke; Йrik satie; lord of the rings\n",
      "Кластер 51:\n",
      "explosions in the sky; mogwai; godspeed you!, black emperor; do make say think; 65daysofstatic; sigur rós; god is an astronaut; pelican; the album leaf; the appleseed cast\n",
      "Кластер 52:\n",
      "aesop rock; atmosphere; el-p; jedi mind tricks; blackalicious; immortal technique; quasimoto; saul williams; sage francis; weird al yankovic\n",
      "Кластер 53:\n",
      "jethro tull; gillian welch; townes van zandt; the cranberries; josh ritter; steely dan.; elvish presley; neko case; alison krauss & union station; old crow medicine show\n",
      "Кластер 54:\n",
      "micheal bublè; josh groban; diana krall; nat king cole; franke sinatra; ella fitzgerald; louıs armstrong; nowa jones; indigo girlz; steely dan.\n",
      "Кластер 55:\n",
      "minutemen; hüsker dü; t.rex; the replacements; wire; talking heads; captain beefhearth & his magic band; butthole surfers; the fall; léonard cohen\n",
      "Кластер 56:\n",
      "lou reed; george harrison and friends; paul mcmartney; velvet underground; the zombies; spiritualized®; kings of leon; john lenon; the beatles; the kinks\n",
      "Кластер 57:\n",
      "curtis mayfield; sly & the family stone; matvin gaye; the temptations; james brown; prince; the prodigy; stevie wonder; al green; snoop doggy dogg featuring jd\n",
      "Кластер 58:\n",
      "fear factory; venetian snares; static-x; the black dahlia murder; lynyrd skynyrd-; cannibal corpse; lamb of god; kmfdm; infected mushroom; municipal waste\n",
      "Кластер 59:\n",
      "a fine frenzy2; jewel; ﻿sarah mclachlan; sia; colbie caillat; missy higgins; leona lewis; eisley; duffy; tilly and the wall\n",
      "Кластер 60:\n",
      "grizzly bear; animal collective; panda bear; fleet foxes; beirut; bon iver; beach house; akron/family; deerhoof; devendra banhart\n",
      "Кластер 61:\n",
      "brand new; taking back sunday; blink-182; new found glory; say anything; saves the day; thursday; circa survive; armor for sleep; cursive\n",
      "Кластер 62:\n",
      "lacuna coil[; nightwish[; evanescense; apocalyptica; abba; van hallen; metallica; him; sonata arctica1; ‌linkin park\n",
      "Кластер 63:\n",
      "ryan adams and the cardinals; ryan adams; old 97s; ray lamontagne; drive-by truckers; neko case; black rebel motorcycle club; kasabian; jeffterson  airplane; matt nathanson\n",
      "Кластер 64:\n",
      "mew; the cardigans; the sounds; mika; blonde redhead; cobra starship; the kooks; bloc party; tilly and the wall; burial\n",
      "Кластер 65:\n",
      "fiona apple; pj harvey; liz phair; cat power; mirah; the dresden dolls; sheryl crow; エイミー・ワインハウス; yann-tiersen; bonnie prince billy\n",
      "Кластер 66:\n",
      "50 cent; big l; the game; tupak shakur; snoop doggy dogg featuring jd; triple 6 mafia; ice cube; eminem; dr. dre; clipse\n",
      "Кластер 67:\n",
      "papa roach; limpt bizkit; koЯn; system of a down; fort minor; chamillionaire; queens off the stone age; hoobastank; mudvayne; ‌linkin park\n",
      "Кластер 68:\n",
      "radiohead; spoon; interpol; beck; tv on the radio; the arcade fire; r.e.m.; gorillaz; my morning jacket; thom yorke\n",
      "Кластер 69:\n",
      "coconut records; why?; tokyo police club; yeah yeah yeahs; au rivoir simone; conor oberst; rooney; bright eyes; the strokes; vampire weekend\n",
      "Кластер 70:\n",
      "sufjan stevens; the arcade fire; ironand wine; andrew bird; the decemberists; the national; okkervil river; band of horses; the shins; elliotte smith\n",
      "Кластер 71:\n",
      "frou frou; imogen_heap; angels and airwaves; freezepop; pink; goldfrapp; weepies, the; blue october; the bird and the bee; bob marley\n",
      "Кластер 72:\n",
      "jens lekman; belle and sebastian; the magnetic fields; camera obscura; voxtrot; pulp; the clientele; devotchka; le tigre; beirut\n",
      "Кластер 73:\n",
      "primus; frank zappa (& the mothers of invention); phish; ween; buckethead; dangerdoom; the melvins; mindless self-indulgence; kaki king; the gateful dead\n",
      "Кластер 74:\n",
      "foo fighters; incubus; red hot clili peppers; ratm; civilian; 311; nirvana; greenday; deftones; chevelle\n",
      "Кластер 75:\n",
      "black flag; bad brains; minor threat; dead kennedys; fugazi; the ramones; ceremony; descendents; the misfits; the clash\n",
      "Кластер 76:\n",
      "travis; keane; coldplay; george harrison and friends; maroon5; muse; the killers; rooney; snow potrol; fleetwood mac\n",
      "Кластер 77:\n",
      "cob; arch enemy; iced eatrth; sonata arctica1; dragonforce; dimmu borgir; bullet for my valintine; the dead milkmen; amon amarth; in flames\n",
      "Кластер 78:\n",
      "mitch hedberg; dane cook; the mountain goats; reel big fish; cypress hill; neutral milk hotel; joanna newsom; the decemberists; the national; spoon\n",
      "Кластер 79:\n",
      "phill collins-; foreigner-; chicago; electric light orchestra; peter gabriël; inxs; sting; eltron john; styx; the eagles\n",
      "Кластер 80:\n",
      "johnson jack; ben harper; citizen cope; dave matthews band; dispatch; david gray; nowa jones; eric clapton; alison krauss & union station; otis redding\n",
      "Кластер 81:\n",
      "can; boc; king crimson; eno; yes; frank zappa (& the mothers of invention); rush; stars of the lid; wire; talking heads\n",
      "Кластер 82:\n",
      "broken social scene; the stars; of montreal; feist; the american analog set; the books; clap your hands, say yeah!; the microphones; the unicorns; blonde redhead\n",
      "Кластер 83:\n",
      "nick drake; bill evans.; yo la tengo; the sea and cake; miles davis.; john coltrane; wilco; ironand wine; stereolab; sonic youth\n"
     ]
    }
   ],
   "source": [
    "centroids = kmeans.cluster_centers_\n",
    "cosine_distance = np.zeros((len(centroids), len(ratings)))\n",
    "\n",
    "for i, centroid in enumerate(centroids):\n",
    "    for j, artist_vector in enumerate(ratings.values):\n",
    "        cosine_distance[i, j] = cosine(centroid, artist_vector)\n",
    "\n",
    "artists = []\n",
    "for i in range(len(centroids)):\n",
    "    artists.append(ratings.index[index] for index in np.argsort(cosine_distance[i])[:10])\n",
    "\n",
    "for i, top_artists in enumerate(artists):\n",
    "    print(f\"Кластер {i}:\")\n",
    "    print('; '.join(top_artists))"
   ]
  },
  {
   "cell_type": "markdown",
   "id": "LeWEK2QsJkiX",
   "metadata": {
    "id": "LeWEK2QsJkiX"
   },
   "source": [
    "**Ответ:** Смысл кластеров остался прежним, они делятся по жанрам, но теперь более точно. Кластер 11:\n",
    "the used; afi; my chemicall romance; him; |avenged sevenfold; from first to last; atreyu; bullet for my valintine; 30 seconds to mars; fall out boy - только панк-рок музыканты. Кластер 50:\n",
    "Вольфганг Амадей Моцарт; ВИВАЛЬДИ; Бах Иоганн Себастьян; ШОПЕН; ルートヴィヒ・ヴァン・ベートーヴェン; john williams (g); billy joel; sam cooke; Йrik satie; lord of the rings - классическая музыка."
   ]
  },
  {
   "cell_type": "markdown",
   "id": "YluT0kiGPe4j",
   "metadata": {
    "id": "YluT0kiGPe4j"
   },
   "source": [
    "Сделайте t-SNE визуализацию полученной кластеризации."
   ]
  },
  {
   "cell_type": "code",
   "execution_count": 100,
   "id": "00rY7Z6XPfPa",
   "metadata": {
    "id": "00rY7Z6XPfPa"
   },
   "outputs": [
    {
     "data": {
      "image/png": "[encoded data removed]",
      "text/plain": [
       "<Figure size 1200x400 with 1 Axes>"
      ]
     },
     "metadata": {},
     "output_type": "display_data"
    }
   ],
   "source": [
    "tsne = TSNE(n_components=2, random_state=42)\n",
    "data = tsne.fit_transform(ratings)\n",
    "\n",
    "plt.figure(figsize=(12, 4))\n",
    "for label in range(len(np.unique(labels))):\n",
    "    plt.scatter(data[labels == label, 0], tsne_data[labels == label, 1])\n",
    "    \n",
    "plt.grid(True)\n",
    "plt.show()"
   ]
  },
  {
   "cell_type": "markdown",
   "id": "Eo8H1sNqQqiF",
   "metadata": {
    "id": "Eo8H1sNqQqiF"
   },
   "source": [
    "Если кластеров получилось слишком много и визуально цвета плохо отличаются, покрасьте только какой-нибудь интересный кластер из задания выше (`c = (labels == i)`). Хорошо ли этот кластер отражается в визуализации?"
   ]
  },
  {
   "cell_type": "code",
   "execution_count": 105,
   "id": "E4oXA3qTQwWT",
   "metadata": {
    "id": "E4oXA3qTQwWT"
   },
   "outputs": [
    {
     "data": {
      "image/png": "[encoded data removed]",
      "text/plain": [
       "<Figure size 1200x400 with 1 Axes>"
      ]
     },
     "metadata": {},
     "output_type": "display_data"
    }
   ],
   "source": [
    "plt.figure(figsize=(12, 4))\n",
    "plt.scatter(data[labels == 50, 0], data[labels == 50, 1])\n",
    "plt.grid(True)\n",
    "plt.show()"
   ]
  },
  {
   "cell_type": "markdown",
   "id": "SHxur6z7Q0fu",
   "metadata": {
    "id": "SHxur6z7Q0fu"
   },
   "source": [
    "**Ответ:** Кластер плохо отображается в визуализации, конечно есть группа точек, но при есть и точки которые находятся слишком далеко друг от друга."
   ]
  },
  {
   "cell_type": "code",
   "execution_count": null,
   "id": "fe2cf007",
   "metadata": {},
   "outputs": [],
   "source": []
  }
 ],
 "metadata": {
  "colab": {
   "provenance": []
  },
  "kernelspec": {
   "display_name": "Python 3 (ipykernel)",
   "language": "python",
   "name": "python3"
  },
  "language_info": {
   "codemirror_mode": {
    "name": "ipython",
    "version": 3
   },
   "file_extension": ".py",
   "mimetype": "text/x-python",
   "name": "python",
   "nbconvert_exporter": "python",
   "pygments_lexer": "ipython3",
   "version": "3.11.7"
  }
 },
 "nbformat": 4,
 "nbformat_minor": 5
}
